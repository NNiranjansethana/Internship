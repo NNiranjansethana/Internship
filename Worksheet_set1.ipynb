{
 "cells": [
  {
   "cell_type": "markdown",
   "id": "a2675cc6",
   "metadata": {},
   "source": [
    "# Q.11"
   ]
  },
  {
   "cell_type": "code",
   "execution_count": 2,
   "id": "a23d78b6",
   "metadata": {},
   "outputs": [
    {
     "name": "stdout",
     "output_type": "stream",
     "text": [
      "The factorial of 4 is 24\n"
     ]
    }
   ],
   "source": [
    "\n",
    "num = 4\n",
    "\n",
    "factorial = 1\n",
    "\n",
    "# check if the number is negative, positive or zero\n",
    "if num < 0:\n",
    "    print(\"factorial does not exist for negative number\")\n",
    "elif num==0:\n",
    "        print(\"The factorial of 0 is 1 \")\n",
    "else:\n",
    "    for i in range(1,num + 1):\n",
    "        factorial = factorial*i\n",
    "print(\"The factorial of\",num,\"is\",factorial)\n"
   ]
  },
  {
   "cell_type": "markdown",
   "id": "cd6b3ba2",
   "metadata": {},
   "source": [
    "# Q.12"
   ]
  },
  {
   "cell_type": "code",
   "execution_count": 3,
   "id": "437056ea",
   "metadata": {},
   "outputs": [
    {
     "name": "stdout",
     "output_type": "stream",
     "text": [
      "Enter a number5\n",
      "5 Number is prime\n",
      "5 Number is prime\n",
      "5 Number is prime\n"
     ]
    }
   ],
   "source": [
    "n=int(input(\"Enter a number\"))\n",
    "if (n==0 or n==1):\n",
    "    print(n,\"Number is nither prime nor composite\")\n",
    "elif n>1:\n",
    "    for i in range(2,n):\n",
    "        if (n%i==0):\n",
    "            print(n,\" Number is composite\")\n",
    "            break\n",
    "        else:\n",
    "            print(n,\"Number is prime\")\n",
    "else:\n",
    "    print(\"Please enter only positive number\")"
   ]
  },
  {
   "cell_type": "markdown",
   "id": "6005169b",
   "metadata": {},
   "source": [
    "# Q.13"
   ]
  },
  {
   "cell_type": "code",
   "execution_count": 4,
   "id": "b3cd1af8",
   "metadata": {},
   "outputs": [
    {
     "name": "stdout",
     "output_type": "stream",
     "text": [
      "Yes\n"
     ]
    }
   ],
   "source": [
    "def isplaindrome(s):\n",
    "    return s == s[::-1]\n",
    "s=\"malayalam\"\n",
    "ans= isplaindrome(s)\n",
    "\n",
    "if ans:\n",
    "    print(\"Yes\")\n",
    "else:\n",
    "    print(\"No\")"
   ]
  },
  {
   "cell_type": "markdown",
   "id": "d235d65b",
   "metadata": {},
   "source": [
    "# Q.14"
   ]
  },
  {
   "cell_type": "code",
   "execution_count": 7,
   "id": "23983ea3",
   "metadata": {},
   "outputs": [
    {
     "name": "stdout",
     "output_type": "stream",
     "text": [
      "Please Enter the Width of a Right Angled Triangle: 4\n",
      "Please Enter the Height of a Right Angled Triangle: 3\n",
      "\n",
      " Area of a right angled triangle is: 6.00\n",
      " Other side of right angled triangle is: 5.00\n",
      " Perimeter of right angled triangle is: 12.00\n"
     ]
    }
   ],
   "source": [
    "# Python Program to find Area of a Right Angled Triangle\n",
    "import math\n",
    "\n",
    "width = float(input('Please Enter the Width of a Right Angled Triangle: '))\n",
    "height = float(input('Please Enter the Height of a Right Angled Triangle: '))\n",
    "\n",
    "# calculate the area\n",
    "Area = 0.5 * width * height\n",
    "\n",
    "# calculate the Third Side\n",
    "c = math.sqrt((width*width) + (height*height))\n",
    "\n",
    "# calculate the Perimeter\n",
    "Perimeter = width + height + c\n",
    "\n",
    "print(\"\\n Area of a right angled triangle is: %.2f\" %Area)\n",
    "print(\" Other side of right angled triangle is: %.2f\" %c)\n",
    "print(\" Perimeter of right angled triangle is: %.2f\" %Perimeter)\n"
   ]
  },
  {
   "cell_type": "markdown",
   "id": "dd2cd190",
   "metadata": {},
   "source": [
    "# Q.15"
   ]
  },
  {
   "cell_type": "code",
   "execution_count": 5,
   "id": "ebd095ae",
   "metadata": {},
   "outputs": [
    {
     "name": "stdout",
     "output_type": "stream",
     "text": [
      "Enter the string: school\n",
      "Please enter the char to find frequency of ta character\n",
      "c\n",
      "The frequency of the  c in the string is:  1\n"
     ]
    }
   ],
   "source": [
    "string=input(\"Enter the string: \")\n",
    "char=input(\"Please enter the char to find frequency of ta character\\n\")\n",
    "count=0\n",
    "for i in range(len(string)):\n",
    "    if(string[i]==char):\n",
    "        count=count+1\n",
    "print(\"The frequency of the \",char,\"in the string is: \",count)"
   ]
  },
  {
   "cell_type": "code",
   "execution_count": null,
   "id": "cc877e4f",
   "metadata": {},
   "outputs": [],
   "source": []
  }
 ],
 "metadata": {
  "kernelspec": {
   "display_name": "Python 3 (ipykernel)",
   "language": "python",
   "name": "python3"
  },
  "language_info": {
   "codemirror_mode": {
    "name": "ipython",
    "version": 3
   },
   "file_extension": ".py",
   "mimetype": "text/x-python",
   "name": "python",
   "nbconvert_exporter": "python",
   "pygments_lexer": "ipython3",
   "version": "3.9.7"
  }
 },
 "nbformat": 4,
 "nbformat_minor": 5
}
