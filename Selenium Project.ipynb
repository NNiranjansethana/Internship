{
 "cells": [
  {
   "cell_type": "code",
   "execution_count": 1,
   "id": "041a570b",
   "metadata": {},
   "outputs": [
    {
     "name": "stderr",
     "output_type": "stream",
     "text": [
      "WARNING: Ignoring invalid distribution -rso (c:\\programdata\\anaconda3\\lib\\site-packages)\n",
      "WARNING: Ignoring invalid distribution - (c:\\programdata\\anaconda3\\lib\\site-packages)\n",
      "WARNING: Ignoring invalid distribution -arso (c:\\programdata\\anaconda3\\lib\\site-packages)\n",
      "WARNING: Ignoring invalid distribution -rso (c:\\programdata\\anaconda3\\lib\\site-packages)\n",
      "WARNING: Ignoring invalid distribution - (c:\\programdata\\anaconda3\\lib\\site-packages)\n",
      "WARNING: Ignoring invalid distribution -arso (c:\\programdata\\anaconda3\\lib\\site-packages)\n",
      "WARNING: Ignoring invalid distribution -rso (c:\\programdata\\anaconda3\\lib\\site-packages)\n",
      "WARNING: Ignoring invalid distribution - (c:\\programdata\\anaconda3\\lib\\site-packages)\n",
      "WARNING: Ignoring invalid distribution -arso (c:\\programdata\\anaconda3\\lib\\site-packages)\n",
      "WARNING: Ignoring invalid distribution -rso (c:\\programdata\\anaconda3\\lib\\site-packages)\n",
      "WARNING: Ignoring invalid distribution - (c:\\programdata\\anaconda3\\lib\\site-packages)\n",
      "WARNING: Ignoring invalid distribution -arso (c:\\programdata\\anaconda3\\lib\\site-packages)\n",
      "WARNING: Ignoring invalid distribution -rso (c:\\programdata\\anaconda3\\lib\\site-packages)\n",
      "WARNING: Ignoring invalid distribution - (c:\\programdata\\anaconda3\\lib\\site-packages)\n",
      "WARNING: Ignoring invalid distribution -arso (c:\\programdata\\anaconda3\\lib\\site-packages)\n",
      "WARNING: Ignoring invalid distribution -rso (c:\\programdata\\anaconda3\\lib\\site-packages)\n",
      "WARNING: Ignoring invalid distribution - (c:\\programdata\\anaconda3\\lib\\site-packages)\n",
      "WARNING: Ignoring invalid distribution -arso (c:\\programdata\\anaconda3\\lib\\site-packages)\n"
     ]
    },
    {
     "name": "stdout",
     "output_type": "stream",
     "text": [
      "Requirement already satisfied: selenium in c:\\programdata\\anaconda3\\lib\\site-packages (4.2.0)\n",
      "Requirement already satisfied: urllib3[secure,socks]~=1.26 in c:\\programdata\\anaconda3\\lib\\site-packages (from selenium) (1.26.7)\n",
      "Requirement already satisfied: trio~=0.17 in c:\\programdata\\anaconda3\\lib\\site-packages (from selenium) (0.21.0)\n",
      "Requirement already satisfied: trio-websocket~=0.9 in c:\\programdata\\anaconda3\\lib\\site-packages (from selenium) (0.9.2)\n",
      "Requirement already satisfied: attrs>=19.2.0 in c:\\programdata\\anaconda3\\lib\\site-packages (from trio~=0.17->selenium) (21.2.0)\n",
      "Requirement already satisfied: idna in c:\\programdata\\anaconda3\\lib\\site-packages (from trio~=0.17->selenium) (3.2)\n",
      "Requirement already satisfied: outcome in c:\\programdata\\anaconda3\\lib\\site-packages (from trio~=0.17->selenium) (1.1.0)\n",
      "Requirement already satisfied: sniffio in c:\\programdata\\anaconda3\\lib\\site-packages (from trio~=0.17->selenium) (1.2.0)\n",
      "Requirement already satisfied: cffi>=1.14 in c:\\programdata\\anaconda3\\lib\\site-packages (from trio~=0.17->selenium) (1.14.6)\n",
      "Requirement already satisfied: async-generator>=1.9 in c:\\programdata\\anaconda3\\lib\\site-packages (from trio~=0.17->selenium) (1.10)\n",
      "Requirement already satisfied: sortedcontainers in c:\\programdata\\anaconda3\\lib\\site-packages (from trio~=0.17->selenium) (2.4.0)\n",
      "Requirement already satisfied: pycparser in c:\\programdata\\anaconda3\\lib\\site-packages (from cffi>=1.14->trio~=0.17->selenium) (2.20)\n",
      "Requirement already satisfied: wsproto>=0.14 in c:\\programdata\\anaconda3\\lib\\site-packages (from trio-websocket~=0.9->selenium) (1.1.0)\n",
      "Requirement already satisfied: PySocks!=1.5.7,<2.0,>=1.5.6 in c:\\programdata\\anaconda3\\lib\\site-packages (from urllib3[secure,socks]~=1.26->selenium) (1.7.1)\n",
      "Requirement already satisfied: pyOpenSSL>=0.14 in c:\\programdata\\anaconda3\\lib\\site-packages (from urllib3[secure,socks]~=1.26->selenium) (21.0.0)\n",
      "Requirement already satisfied: cryptography>=1.3.4 in c:\\programdata\\anaconda3\\lib\\site-packages (from urllib3[secure,socks]~=1.26->selenium) (3.4.8)\n",
      "Requirement already satisfied: certifi in c:\\programdata\\anaconda3\\lib\\site-packages (from urllib3[secure,socks]~=1.26->selenium) (2021.10.8)\n",
      "Requirement already satisfied: six>=1.5.2 in c:\\programdata\\anaconda3\\lib\\site-packages (from pyOpenSSL>=0.14->urllib3[secure,socks]~=1.26->selenium) (1.16.0)\n",
      "Requirement already satisfied: h11<1,>=0.9.0 in c:\\programdata\\anaconda3\\lib\\site-packages (from wsproto>=0.14->trio-websocket~=0.9->selenium) (0.13.0)\n"
     ]
    }
   ],
   "source": [
    "!pip install selenium\n",
    "import selenium\n",
    "from selenium import webdriver\n",
    "import pandas as pd\n",
    "import time\n",
    "import warnings\n",
    "warnings.filterwarnings('ignore')"
   ]
  },
  {
   "cell_type": "code",
   "execution_count": 2,
   "id": "0e61dac2",
   "metadata": {},
   "outputs": [],
   "source": [
    "driver = webdriver.Chrome(r\"C:\\Web Driver\\Chromedriver.exe\")"
   ]
  },
  {
   "cell_type": "markdown",
   "id": "3095ca44",
   "metadata": {},
   "source": [
    "# Q1"
   ]
  },
  {
   "cell_type": "code",
   "execution_count": 3,
   "id": "68b6a93f",
   "metadata": {},
   "outputs": [],
   "source": [
    "driver.get(\"http://www.naukri.com/\")"
   ]
  },
  {
   "cell_type": "code",
   "execution_count": 4,
   "id": "222318ba",
   "metadata": {},
   "outputs": [],
   "source": [
    "search_designation=driver.find_element_by_class_name(\"suggestor-input \")\n",
    "search_designation.send_keys(\"Data Analyst\")"
   ]
  },
  {
   "cell_type": "code",
   "execution_count": 5,
   "id": "f5487f5e",
   "metadata": {},
   "outputs": [],
   "source": [
    "search_location=driver.find_element_by_xpath(\"/html/body/div/div[2]/div[3]/div/div/div[5]/div/div/div/input\")\n",
    "\n",
    "search_location.send_keys(\"Bangalore\")"
   ]
  },
  {
   "cell_type": "code",
   "execution_count": 6,
   "id": "60a64d00",
   "metadata": {},
   "outputs": [],
   "source": [
    "search_button=driver.find_element_by_xpath(\"/html/body/div/div[2]/div[3]/div/div/div[6]\")\n",
    "search_button.click()"
   ]
  },
  {
   "cell_type": "code",
   "execution_count": 7,
   "id": "b03f47e6",
   "metadata": {},
   "outputs": [],
   "source": [
    "job_title=[]\n",
    "job_location=[]\n",
    "company_name=[]\n",
    "experience_required=[]"
   ]
  },
  {
   "cell_type": "code",
   "execution_count": 8,
   "id": "c205ac62",
   "metadata": {},
   "outputs": [
    {
     "data": {
      "text/plain": [
       "[<selenium.webdriver.remote.webelement.WebElement (session=\"6d75ad6f87dba2c09fbb31bc87d69144\", element=\"4580aab1-bf8f-42fc-841d-b55adc967abb\")>,\n",
       " <selenium.webdriver.remote.webelement.WebElement (session=\"6d75ad6f87dba2c09fbb31bc87d69144\", element=\"e1cd63ce-99db-4d1f-a77f-54d74ee3e0f5\")>,\n",
       " <selenium.webdriver.remote.webelement.WebElement (session=\"6d75ad6f87dba2c09fbb31bc87d69144\", element=\"4ba82324-e539-488f-aca7-8c55a78bb1fe\")>,\n",
       " <selenium.webdriver.remote.webelement.WebElement (session=\"6d75ad6f87dba2c09fbb31bc87d69144\", element=\"d84f4483-bd5b-44a7-b2d4-fb87cc6a06d2\")>,\n",
       " <selenium.webdriver.remote.webelement.WebElement (session=\"6d75ad6f87dba2c09fbb31bc87d69144\", element=\"3668d321-f5b8-4217-839f-c7f88d5926bc\")>,\n",
       " <selenium.webdriver.remote.webelement.WebElement (session=\"6d75ad6f87dba2c09fbb31bc87d69144\", element=\"d8d675ba-590d-4b0c-8193-4380ece5f9e8\")>,\n",
       " <selenium.webdriver.remote.webelement.WebElement (session=\"6d75ad6f87dba2c09fbb31bc87d69144\", element=\"14efe686-8a31-4cef-82cb-fccac9de822b\")>,\n",
       " <selenium.webdriver.remote.webelement.WebElement (session=\"6d75ad6f87dba2c09fbb31bc87d69144\", element=\"4433bf24-1c6d-4054-a5e0-3ded3338cac5\")>,\n",
       " <selenium.webdriver.remote.webelement.WebElement (session=\"6d75ad6f87dba2c09fbb31bc87d69144\", element=\"ad6c87f4-cb2d-47f2-880f-706303754e01\")>,\n",
       " <selenium.webdriver.remote.webelement.WebElement (session=\"6d75ad6f87dba2c09fbb31bc87d69144\", element=\"af86e996-6b86-4673-b53d-dc44fd4983f9\")>]"
      ]
     },
     "execution_count": 8,
     "metadata": {},
     "output_type": "execute_result"
    }
   ],
   "source": [
    "job_titles=driver.find_elements_by_xpath(\"//a[@class='title fw500 ellipsis']\")\n",
    "job_titles[0:10]"
   ]
  },
  {
   "cell_type": "code",
   "execution_count": 9,
   "id": "2bbaa9b2",
   "metadata": {},
   "outputs": [
    {
     "data": {
      "text/plain": [
       "['Business Data Analyst',\n",
       " 'EY GDS Data Analyst-Finland based project',\n",
       " 'Data Analyst - Data and Analytics',\n",
       " 'Data Analyst (CSD)',\n",
       " 'Data Analyst - Data Science, 3 To 5 Years',\n",
       " 'Data Analyst / Business Analyst',\n",
       " 'SAS/SQL - Healthcare Data Analyst - Bangalore',\n",
       " 'Business & Data Analyst - Alteryx (London)',\n",
       " 'data analyst/ data analytics / Business analyst- SQL/Python/SAS',\n",
       " 'Data analyst / Data scientist, AVP']"
      ]
     },
     "execution_count": 9,
     "metadata": {},
     "output_type": "execute_result"
    }
   ],
   "source": [
    "for i in job_titles:\n",
    "    title=i.text\n",
    "    job_title.append(title)\n",
    "job_title[0:10]"
   ]
  },
  {
   "cell_type": "code",
   "execution_count": 10,
   "id": "134052ab",
   "metadata": {},
   "outputs": [
    {
     "data": {
      "text/plain": [
       "[<selenium.webdriver.remote.webelement.WebElement (session=\"6d75ad6f87dba2c09fbb31bc87d69144\", element=\"e9b77133-f41c-4dd6-91f0-f9e5f14577f6\")>,\n",
       " <selenium.webdriver.remote.webelement.WebElement (session=\"6d75ad6f87dba2c09fbb31bc87d69144\", element=\"cfa96cb3-1c7d-4dc4-a990-12555b528774\")>,\n",
       " <selenium.webdriver.remote.webelement.WebElement (session=\"6d75ad6f87dba2c09fbb31bc87d69144\", element=\"3b8be758-c13c-4362-b629-70ceb969c8d5\")>,\n",
       " <selenium.webdriver.remote.webelement.WebElement (session=\"6d75ad6f87dba2c09fbb31bc87d69144\", element=\"8cda482e-089f-4a7f-9ada-ded652b0210e\")>,\n",
       " <selenium.webdriver.remote.webelement.WebElement (session=\"6d75ad6f87dba2c09fbb31bc87d69144\", element=\"07884ab5-0636-44b3-bfc7-25966ca16ab9\")>,\n",
       " <selenium.webdriver.remote.webelement.WebElement (session=\"6d75ad6f87dba2c09fbb31bc87d69144\", element=\"2c280a79-696f-4d4d-967b-89bca9b545fa\")>,\n",
       " <selenium.webdriver.remote.webelement.WebElement (session=\"6d75ad6f87dba2c09fbb31bc87d69144\", element=\"93657d56-34f5-4aa9-a39b-0643243b4e58\")>,\n",
       " <selenium.webdriver.remote.webelement.WebElement (session=\"6d75ad6f87dba2c09fbb31bc87d69144\", element=\"8f993011-c552-49b5-8607-d2b2907c6928\")>,\n",
       " <selenium.webdriver.remote.webelement.WebElement (session=\"6d75ad6f87dba2c09fbb31bc87d69144\", element=\"4d63577c-037a-4d06-8d68-e54ae9eeb993\")>,\n",
       " <selenium.webdriver.remote.webelement.WebElement (session=\"6d75ad6f87dba2c09fbb31bc87d69144\", element=\"f3d3f8eb-58a3-467c-afe5-74542805829b\")>]"
      ]
     },
     "execution_count": 10,
     "metadata": {},
     "output_type": "execute_result"
    }
   ],
   "source": [
    "location=driver.find_elements_by_xpath(\"//li[@class='fleft grey-text br2 placeHolderLi location']\")\n",
    "location[0:10]"
   ]
  },
  {
   "cell_type": "code",
   "execution_count": 11,
   "id": "37317802",
   "metadata": {},
   "outputs": [
    {
     "data": {
      "text/plain": [
       "['Bangalore/Bengaluru',\n",
       " 'Bangalore/Bengaluru',\n",
       " 'Bangalore/Bengaluru',\n",
       " 'Bangalore/Bengaluru',\n",
       " 'Bangalore/Bengaluru',\n",
       " 'Bangalore/Bengaluru',\n",
       " 'Bangalore/Bengaluru',\n",
       " 'Bangalore/Bengaluru, Delhi / NCR, Mumbai (All Areas)',\n",
       " 'Gurgaon/Gurugram, Bangalore/Bengaluru, Delhi / NCR\\n(WFH during Covid)',\n",
       " 'Bangalore/Bengaluru']"
      ]
     },
     "execution_count": 11,
     "metadata": {},
     "output_type": "execute_result"
    }
   ],
   "source": [
    "for i in location:\n",
    "    location_details=i.text\n",
    "    job_location.append(location_details)\n",
    "job_location[0:10]"
   ]
  },
  {
   "cell_type": "code",
   "execution_count": 12,
   "id": "b67650b7",
   "metadata": {},
   "outputs": [
    {
     "data": {
      "text/plain": [
       "[<selenium.webdriver.remote.webelement.WebElement (session=\"6d75ad6f87dba2c09fbb31bc87d69144\", element=\"7c6cb74a-3f54-499e-abed-fd8ca63ba747\")>,\n",
       " <selenium.webdriver.remote.webelement.WebElement (session=\"6d75ad6f87dba2c09fbb31bc87d69144\", element=\"d2841938-5c39-4ea6-949e-9c22b378bfde\")>,\n",
       " <selenium.webdriver.remote.webelement.WebElement (session=\"6d75ad6f87dba2c09fbb31bc87d69144\", element=\"423ca154-6132-47ed-b507-4cdcc5db49cd\")>,\n",
       " <selenium.webdriver.remote.webelement.WebElement (session=\"6d75ad6f87dba2c09fbb31bc87d69144\", element=\"2328b7ba-c460-4724-a6e3-5fc5cc2da088\")>,\n",
       " <selenium.webdriver.remote.webelement.WebElement (session=\"6d75ad6f87dba2c09fbb31bc87d69144\", element=\"8dd65728-86bb-48fd-9258-7dedcbd95bcd\")>,\n",
       " <selenium.webdriver.remote.webelement.WebElement (session=\"6d75ad6f87dba2c09fbb31bc87d69144\", element=\"ef7b5c14-415d-439c-b113-8e5a6feb53b1\")>,\n",
       " <selenium.webdriver.remote.webelement.WebElement (session=\"6d75ad6f87dba2c09fbb31bc87d69144\", element=\"ac4c6ffb-a153-41cb-9173-acb7b32fb1cc\")>,\n",
       " <selenium.webdriver.remote.webelement.WebElement (session=\"6d75ad6f87dba2c09fbb31bc87d69144\", element=\"30f9e45f-9d8c-4035-9b37-29a0dd3556f4\")>,\n",
       " <selenium.webdriver.remote.webelement.WebElement (session=\"6d75ad6f87dba2c09fbb31bc87d69144\", element=\"4a0d6388-24a9-4ea0-96fd-172f08d00408\")>,\n",
       " <selenium.webdriver.remote.webelement.WebElement (session=\"6d75ad6f87dba2c09fbb31bc87d69144\", element=\"ea2e0f62-aa8b-48b2-841d-143165b0aecf\")>]"
      ]
     },
     "execution_count": 12,
     "metadata": {},
     "output_type": "execute_result"
    }
   ],
   "source": [
    "company=driver.find_elements_by_xpath(\"//a[@class='subTitle ellipsis fleft']\")\n",
    "company[0:10]"
   ]
  },
  {
   "cell_type": "code",
   "execution_count": 13,
   "id": "75270632",
   "metadata": {},
   "outputs": [
    {
     "data": {
      "text/plain": [
       "['NXP Semiconductors',\n",
       " 'EY',\n",
       " 'Intel',\n",
       " 'Siemens',\n",
       " 'Rise Finconnect Private Limited',\n",
       " 'METRO Cash & Carry',\n",
       " 'Genpact',\n",
       " 'Imaginative Brains LLP',\n",
       " 'Leading US MNC into Analytics',\n",
       " 'Deutsche Bank']"
      ]
     },
     "execution_count": 13,
     "metadata": {},
     "output_type": "execute_result"
    }
   ],
   "source": [
    "for i in company:\n",
    "    name=i.text\n",
    "    company_name.append(name)\n",
    "company_name[0:10]"
   ]
  },
  {
   "cell_type": "code",
   "execution_count": 14,
   "id": "a0c6fc0b",
   "metadata": {},
   "outputs": [
    {
     "data": {
      "text/plain": [
       "[<selenium.webdriver.remote.webelement.WebElement (session=\"6d75ad6f87dba2c09fbb31bc87d69144\", element=\"5223f4a5-31c1-4ca9-94d9-90811a5255ad\")>,\n",
       " <selenium.webdriver.remote.webelement.WebElement (session=\"6d75ad6f87dba2c09fbb31bc87d69144\", element=\"015e334d-cbdd-458b-b1ef-4c627fae4ba5\")>,\n",
       " <selenium.webdriver.remote.webelement.WebElement (session=\"6d75ad6f87dba2c09fbb31bc87d69144\", element=\"3e4799b6-86c4-40a7-a3ad-55ec8c15218d\")>,\n",
       " <selenium.webdriver.remote.webelement.WebElement (session=\"6d75ad6f87dba2c09fbb31bc87d69144\", element=\"1850cf94-7f34-4b47-91ef-a3f383271dfa\")>,\n",
       " <selenium.webdriver.remote.webelement.WebElement (session=\"6d75ad6f87dba2c09fbb31bc87d69144\", element=\"d6cb791e-2e1b-44ae-bb60-48057435c816\")>,\n",
       " <selenium.webdriver.remote.webelement.WebElement (session=\"6d75ad6f87dba2c09fbb31bc87d69144\", element=\"7390b7d4-7ab9-41c3-92cd-a19a789fc33d\")>,\n",
       " <selenium.webdriver.remote.webelement.WebElement (session=\"6d75ad6f87dba2c09fbb31bc87d69144\", element=\"1051abe1-85c4-47cc-8123-a5fb1b889c40\")>,\n",
       " <selenium.webdriver.remote.webelement.WebElement (session=\"6d75ad6f87dba2c09fbb31bc87d69144\", element=\"4fee07e7-2743-4abd-b01a-85b7aefa87f6\")>,\n",
       " <selenium.webdriver.remote.webelement.WebElement (session=\"6d75ad6f87dba2c09fbb31bc87d69144\", element=\"780b4765-98ed-44d1-91ef-bacd764c4142\")>,\n",
       " <selenium.webdriver.remote.webelement.WebElement (session=\"6d75ad6f87dba2c09fbb31bc87d69144\", element=\"d76d6257-742c-4ee4-a857-a42b740baff7\")>]"
      ]
     },
     "execution_count": 14,
     "metadata": {},
     "output_type": "execute_result"
    }
   ],
   "source": [
    "exeperence=driver.find_elements_by_xpath(\"//li[@class='fleft grey-text br2 placeHolderLi experience']\")\n",
    "exeperence[0:10]"
   ]
  },
  {
   "cell_type": "code",
   "execution_count": 15,
   "id": "3a1c895e",
   "metadata": {},
   "outputs": [
    {
     "data": {
      "text/plain": [
       "['2-5 Yrs',\n",
       " '0-1 Yrs',\n",
       " '3-6 Yrs',\n",
       " '2-6 Yrs',\n",
       " '2-6 Yrs',\n",
       " '3-8 Yrs',\n",
       " '7-10 Yrs',\n",
       " '5-10 Yrs',\n",
       " '2-7 Yrs',\n",
       " '6-11 Yrs']"
      ]
     },
     "execution_count": 15,
     "metadata": {},
     "output_type": "execute_result"
    }
   ],
   "source": [
    "for i in exeperence:\n",
    "    exp_req=i.text\n",
    "    experience_required.append(exp_req)\n",
    "experience_required[0:10]"
   ]
  },
  {
   "cell_type": "code",
   "execution_count": 16,
   "id": "10ef019c",
   "metadata": {},
   "outputs": [
    {
     "name": "stdout",
     "output_type": "stream",
     "text": [
      "20 20 20 20\n"
     ]
    }
   ],
   "source": [
    "print(len(job_title),len(job_location),len(company_name),len(experience_required))"
   ]
  },
  {
   "cell_type": "code",
   "execution_count": 17,
   "id": "7b12aba1",
   "metadata": {},
   "outputs": [
    {
     "data": {
      "text/html": [
       "<div>\n",
       "<style scoped>\n",
       "    .dataframe tbody tr th:only-of-type {\n",
       "        vertical-align: middle;\n",
       "    }\n",
       "\n",
       "    .dataframe tbody tr th {\n",
       "        vertical-align: top;\n",
       "    }\n",
       "\n",
       "    .dataframe thead th {\n",
       "        text-align: right;\n",
       "    }\n",
       "</style>\n",
       "<table border=\"1\" class=\"dataframe\">\n",
       "  <thead>\n",
       "    <tr style=\"text-align: right;\">\n",
       "      <th></th>\n",
       "      <th>Title</th>\n",
       "      <th>Location</th>\n",
       "      <th>Company_Name</th>\n",
       "      <th>Experiance</th>\n",
       "    </tr>\n",
       "  </thead>\n",
       "  <tbody>\n",
       "    <tr>\n",
       "      <th>0</th>\n",
       "      <td>Business Data Analyst</td>\n",
       "      <td>Bangalore/Bengaluru</td>\n",
       "      <td>NXP Semiconductors</td>\n",
       "      <td>2-5 Yrs</td>\n",
       "    </tr>\n",
       "    <tr>\n",
       "      <th>1</th>\n",
       "      <td>EY GDS Data Analyst-Finland based project</td>\n",
       "      <td>Bangalore/Bengaluru</td>\n",
       "      <td>EY</td>\n",
       "      <td>0-1 Yrs</td>\n",
       "    </tr>\n",
       "    <tr>\n",
       "      <th>2</th>\n",
       "      <td>Data Analyst - Data and Analytics</td>\n",
       "      <td>Bangalore/Bengaluru</td>\n",
       "      <td>Intel</td>\n",
       "      <td>3-6 Yrs</td>\n",
       "    </tr>\n",
       "    <tr>\n",
       "      <th>3</th>\n",
       "      <td>Data Analyst (CSD)</td>\n",
       "      <td>Bangalore/Bengaluru</td>\n",
       "      <td>Siemens</td>\n",
       "      <td>2-6 Yrs</td>\n",
       "    </tr>\n",
       "    <tr>\n",
       "      <th>4</th>\n",
       "      <td>Data Analyst - Data Science, 3 To 5 Years</td>\n",
       "      <td>Bangalore/Bengaluru</td>\n",
       "      <td>Rise Finconnect Private Limited</td>\n",
       "      <td>2-6 Yrs</td>\n",
       "    </tr>\n",
       "    <tr>\n",
       "      <th>5</th>\n",
       "      <td>Data Analyst / Business Analyst</td>\n",
       "      <td>Bangalore/Bengaluru</td>\n",
       "      <td>METRO Cash &amp; Carry</td>\n",
       "      <td>3-8 Yrs</td>\n",
       "    </tr>\n",
       "    <tr>\n",
       "      <th>6</th>\n",
       "      <td>SAS/SQL - Healthcare Data Analyst - Bangalore</td>\n",
       "      <td>Bangalore/Bengaluru</td>\n",
       "      <td>Genpact</td>\n",
       "      <td>7-10 Yrs</td>\n",
       "    </tr>\n",
       "    <tr>\n",
       "      <th>7</th>\n",
       "      <td>Business &amp; Data Analyst - Alteryx (London)</td>\n",
       "      <td>Bangalore/Bengaluru, Delhi / NCR, Mumbai (All ...</td>\n",
       "      <td>Imaginative Brains LLP</td>\n",
       "      <td>5-10 Yrs</td>\n",
       "    </tr>\n",
       "    <tr>\n",
       "      <th>8</th>\n",
       "      <td>data analyst/ data analytics / Business analys...</td>\n",
       "      <td>Gurgaon/Gurugram, Bangalore/Bengaluru, Delhi /...</td>\n",
       "      <td>Leading US MNC into Analytics</td>\n",
       "      <td>2-7 Yrs</td>\n",
       "    </tr>\n",
       "    <tr>\n",
       "      <th>9</th>\n",
       "      <td>Data analyst / Data scientist, AVP</td>\n",
       "      <td>Bangalore/Bengaluru</td>\n",
       "      <td>Deutsche Bank</td>\n",
       "      <td>6-11 Yrs</td>\n",
       "    </tr>\n",
       "    <tr>\n",
       "      <th>10</th>\n",
       "      <td>Data analyst / Data scientist, Associate</td>\n",
       "      <td>Bangalore/Bengaluru</td>\n",
       "      <td>Deutsche Bank</td>\n",
       "      <td>5-8 Yrs</td>\n",
       "    </tr>\n",
       "    <tr>\n",
       "      <th>11</th>\n",
       "      <td>Senior Mis Data Analyst</td>\n",
       "      <td>Bangalore/Bengaluru(Sarjapur), Delhi / NCR, Mu...</td>\n",
       "      <td>Barbeque Nation</td>\n",
       "      <td>5-8 Yrs</td>\n",
       "    </tr>\n",
       "    <tr>\n",
       "      <th>12</th>\n",
       "      <td>Junior Data Analyst/ Scientist- Fresher Position</td>\n",
       "      <td>Remote</td>\n",
       "      <td>Sejal Consulting Hub</td>\n",
       "      <td>0-3 Yrs</td>\n",
       "    </tr>\n",
       "    <tr>\n",
       "      <th>13</th>\n",
       "      <td>Senior Data Analyst</td>\n",
       "      <td>Bangalore/Bengaluru</td>\n",
       "      <td>Flipkart</td>\n",
       "      <td>3-7 Yrs</td>\n",
       "    </tr>\n",
       "    <tr>\n",
       "      <th>14</th>\n",
       "      <td>Senior Data Analyst</td>\n",
       "      <td>Bangalore/Bengaluru</td>\n",
       "      <td>Walmart</td>\n",
       "      <td>4-7 Yrs</td>\n",
       "    </tr>\n",
       "    <tr>\n",
       "      <th>15</th>\n",
       "      <td>Data Analyst</td>\n",
       "      <td>Bangalore/Bengaluru</td>\n",
       "      <td>PharmEasy</td>\n",
       "      <td>1-3 Yrs</td>\n",
       "    </tr>\n",
       "    <tr>\n",
       "      <th>16</th>\n",
       "      <td>Master Data Management Business Analyst</td>\n",
       "      <td>Bangalore/Bengaluru</td>\n",
       "      <td>Accenture</td>\n",
       "      <td>6-8 Yrs</td>\n",
       "    </tr>\n",
       "    <tr>\n",
       "      <th>17</th>\n",
       "      <td>Data Analytics and Interpretation Business Ana...</td>\n",
       "      <td>Bangalore/Bengaluru</td>\n",
       "      <td>Accenture</td>\n",
       "      <td>6-8 Yrs</td>\n",
       "    </tr>\n",
       "    <tr>\n",
       "      <th>18</th>\n",
       "      <td>Data Analyst</td>\n",
       "      <td>Bangalore/Bengaluru</td>\n",
       "      <td>Allegis Services India Pvt. Ltd.</td>\n",
       "      <td>8-13 Yrs</td>\n",
       "    </tr>\n",
       "    <tr>\n",
       "      <th>19</th>\n",
       "      <td>Data Analyst</td>\n",
       "      <td>Bangalore/Bengaluru(Dodda Banaswadi)</td>\n",
       "      <td>ADVISETREE CONSULTING PRIVATE LIMITED</td>\n",
       "      <td>4-6 Yrs</td>\n",
       "    </tr>\n",
       "  </tbody>\n",
       "</table>\n",
       "</div>"
      ],
      "text/plain": [
       "                                                Title  \\\n",
       "0                               Business Data Analyst   \n",
       "1           EY GDS Data Analyst-Finland based project   \n",
       "2                   Data Analyst - Data and Analytics   \n",
       "3                                  Data Analyst (CSD)   \n",
       "4           Data Analyst - Data Science, 3 To 5 Years   \n",
       "5                     Data Analyst / Business Analyst   \n",
       "6       SAS/SQL - Healthcare Data Analyst - Bangalore   \n",
       "7          Business & Data Analyst - Alteryx (London)   \n",
       "8   data analyst/ data analytics / Business analys...   \n",
       "9                  Data analyst / Data scientist, AVP   \n",
       "10           Data analyst / Data scientist, Associate   \n",
       "11                            Senior Mis Data Analyst   \n",
       "12   Junior Data Analyst/ Scientist- Fresher Position   \n",
       "13                                Senior Data Analyst   \n",
       "14                                Senior Data Analyst   \n",
       "15                                       Data Analyst   \n",
       "16            Master Data Management Business Analyst   \n",
       "17  Data Analytics and Interpretation Business Ana...   \n",
       "18                                       Data Analyst   \n",
       "19                                       Data Analyst   \n",
       "\n",
       "                                             Location  \\\n",
       "0                                 Bangalore/Bengaluru   \n",
       "1                                 Bangalore/Bengaluru   \n",
       "2                                 Bangalore/Bengaluru   \n",
       "3                                 Bangalore/Bengaluru   \n",
       "4                                 Bangalore/Bengaluru   \n",
       "5                                 Bangalore/Bengaluru   \n",
       "6                                 Bangalore/Bengaluru   \n",
       "7   Bangalore/Bengaluru, Delhi / NCR, Mumbai (All ...   \n",
       "8   Gurgaon/Gurugram, Bangalore/Bengaluru, Delhi /...   \n",
       "9                                 Bangalore/Bengaluru   \n",
       "10                                Bangalore/Bengaluru   \n",
       "11  Bangalore/Bengaluru(Sarjapur), Delhi / NCR, Mu...   \n",
       "12                                             Remote   \n",
       "13                                Bangalore/Bengaluru   \n",
       "14                                Bangalore/Bengaluru   \n",
       "15                                Bangalore/Bengaluru   \n",
       "16                                Bangalore/Bengaluru   \n",
       "17                                Bangalore/Bengaluru   \n",
       "18                                Bangalore/Bengaluru   \n",
       "19               Bangalore/Bengaluru(Dodda Banaswadi)   \n",
       "\n",
       "                             Company_Name Experiance  \n",
       "0                      NXP Semiconductors    2-5 Yrs  \n",
       "1                                      EY    0-1 Yrs  \n",
       "2                                   Intel    3-6 Yrs  \n",
       "3                                 Siemens    2-6 Yrs  \n",
       "4         Rise Finconnect Private Limited    2-6 Yrs  \n",
       "5                      METRO Cash & Carry    3-8 Yrs  \n",
       "6                                 Genpact   7-10 Yrs  \n",
       "7                  Imaginative Brains LLP   5-10 Yrs  \n",
       "8           Leading US MNC into Analytics    2-7 Yrs  \n",
       "9                           Deutsche Bank   6-11 Yrs  \n",
       "10                          Deutsche Bank    5-8 Yrs  \n",
       "11                        Barbeque Nation    5-8 Yrs  \n",
       "12                   Sejal Consulting Hub    0-3 Yrs  \n",
       "13                               Flipkart    3-7 Yrs  \n",
       "14                                Walmart    4-7 Yrs  \n",
       "15                              PharmEasy    1-3 Yrs  \n",
       "16                              Accenture    6-8 Yrs  \n",
       "17                              Accenture    6-8 Yrs  \n",
       "18       Allegis Services India Pvt. Ltd.   8-13 Yrs  \n",
       "19  ADVISETREE CONSULTING PRIVATE LIMITED    4-6 Yrs  "
      ]
     },
     "execution_count": 17,
     "metadata": {},
     "output_type": "execute_result"
    }
   ],
   "source": [
    "jobs=pd.DataFrame({})\n",
    "jobs['Title']=job_title\n",
    "jobs['Location']=job_location\n",
    "jobs['Company_Name']=company_name\n",
    "jobs['Experiance']=experience_required\n",
    "jobs"
   ]
  },
  {
   "cell_type": "code",
   "execution_count": 18,
   "id": "73b243f4",
   "metadata": {},
   "outputs": [],
   "source": [
    "driver.close()"
   ]
  },
  {
   "cell_type": "markdown",
   "id": "b230b867",
   "metadata": {},
   "source": [
    "# Q.2"
   ]
  },
  {
   "cell_type": "code",
   "execution_count": 19,
   "id": "e3968aa8",
   "metadata": {},
   "outputs": [],
   "source": [
    "driver = webdriver.Chrome(\"Chromedriver.exe\")"
   ]
  },
  {
   "cell_type": "code",
   "execution_count": 20,
   "id": "e47178b8",
   "metadata": {},
   "outputs": [],
   "source": [
    "driver.get(\"http://www.naukri.com/\")"
   ]
  },
  {
   "cell_type": "code",
   "execution_count": 21,
   "id": "7f0a6811",
   "metadata": {},
   "outputs": [],
   "source": [
    "search_designation=driver.find_element_by_class_name(\"suggestor-input \")\n",
    "search_designation.send_keys(\"Data Scientist\")"
   ]
  },
  {
   "cell_type": "code",
   "execution_count": 22,
   "id": "c108006e",
   "metadata": {},
   "outputs": [],
   "source": [
    "search_location=driver.find_element_by_xpath(\"/html/body/div/div[2]/div[3]/div/div/div[5]/div/div/div/input\")\n",
    "search_location.send_keys(\"Bangalore\")"
   ]
  },
  {
   "cell_type": "code",
   "execution_count": 23,
   "id": "2d208186",
   "metadata": {},
   "outputs": [],
   "source": [
    "search_button=driver.find_element_by_xpath(\"/html/body/div/div[2]/div[3]/div/div/div[6]\")\n",
    "search_button.click()"
   ]
  },
  {
   "cell_type": "code",
   "execution_count": 24,
   "id": "1161e809",
   "metadata": {},
   "outputs": [],
   "source": [
    "job_title=[]\n",
    "job_location=[]\n",
    "company_name=[]"
   ]
  },
  {
   "cell_type": "code",
   "execution_count": 25,
   "id": "3d9024bb",
   "metadata": {},
   "outputs": [
    {
     "data": {
      "text/plain": [
       "[<selenium.webdriver.remote.webelement.WebElement (session=\"87495cd366c8de9ccfb48c188c464dab\", element=\"355e261b-9912-4fcc-b60b-48492f029696\")>,\n",
       " <selenium.webdriver.remote.webelement.WebElement (session=\"87495cd366c8de9ccfb48c188c464dab\", element=\"eabff5a7-aa7b-4ac2-9988-09aed2928027\")>,\n",
       " <selenium.webdriver.remote.webelement.WebElement (session=\"87495cd366c8de9ccfb48c188c464dab\", element=\"0a44a24f-784b-451c-95a9-2357167b0a38\")>,\n",
       " <selenium.webdriver.remote.webelement.WebElement (session=\"87495cd366c8de9ccfb48c188c464dab\", element=\"a008b3c9-3c2d-487c-b580-07ac9c6c5c3c\")>,\n",
       " <selenium.webdriver.remote.webelement.WebElement (session=\"87495cd366c8de9ccfb48c188c464dab\", element=\"66ccc9c8-aa8d-4ef9-bc43-15fe3ab716fe\")>,\n",
       " <selenium.webdriver.remote.webelement.WebElement (session=\"87495cd366c8de9ccfb48c188c464dab\", element=\"950ae349-a2f7-4b46-a168-5523d8822fc3\")>,\n",
       " <selenium.webdriver.remote.webelement.WebElement (session=\"87495cd366c8de9ccfb48c188c464dab\", element=\"d15e8267-ef25-40b9-8bca-22ef03355b62\")>,\n",
       " <selenium.webdriver.remote.webelement.WebElement (session=\"87495cd366c8de9ccfb48c188c464dab\", element=\"02fe3f03-36a1-43cb-b205-2a5f27cfbfac\")>,\n",
       " <selenium.webdriver.remote.webelement.WebElement (session=\"87495cd366c8de9ccfb48c188c464dab\", element=\"ea33f29e-9c78-4d3c-96ce-c61413f2d75c\")>,\n",
       " <selenium.webdriver.remote.webelement.WebElement (session=\"87495cd366c8de9ccfb48c188c464dab\", element=\"dea5a3c4-ea5b-48cc-8014-5f2f464c15db\")>]"
      ]
     },
     "execution_count": 25,
     "metadata": {},
     "output_type": "execute_result"
    }
   ],
   "source": [
    "job=driver.find_elements_by_xpath(\"//a[@class='title fw500 ellipsis']\")\n",
    "job[0:10]"
   ]
  },
  {
   "cell_type": "code",
   "execution_count": 26,
   "id": "9547593c",
   "metadata": {},
   "outputs": [
    {
     "data": {
      "text/plain": [
       "['Data Science - Engineering Manager',\n",
       " 'AI Technologist Vacancy',\n",
       " 'Job Opening with Wipro For Data Scientist position',\n",
       " 'DATA Scientist with Fraud Analytics Experience',\n",
       " 'Data Scientist',\n",
       " 'Data Scientist',\n",
       " 'Data Scientist',\n",
       " 'Data Scientist',\n",
       " 'Data Scientist',\n",
       " 'Specialist - Data Scientist']"
      ]
     },
     "execution_count": 26,
     "metadata": {},
     "output_type": "execute_result"
    }
   ],
   "source": [
    "for i in job:\n",
    "    title=i.text\n",
    "    job_title.append(title)\n",
    "job_title[0:10]"
   ]
  },
  {
   "cell_type": "code",
   "execution_count": 27,
   "id": "c9aafea5",
   "metadata": {},
   "outputs": [
    {
     "data": {
      "text/plain": [
       "[<selenium.webdriver.remote.webelement.WebElement (session=\"87495cd366c8de9ccfb48c188c464dab\", element=\"e441af58-c71a-4b01-b59c-c8506b59007a\")>,\n",
       " <selenium.webdriver.remote.webelement.WebElement (session=\"87495cd366c8de9ccfb48c188c464dab\", element=\"c07c99bc-6338-4283-88c0-6797b6eb45ba\")>,\n",
       " <selenium.webdriver.remote.webelement.WebElement (session=\"87495cd366c8de9ccfb48c188c464dab\", element=\"18bd086b-3df8-4486-a42b-240dcef8fa66\")>,\n",
       " <selenium.webdriver.remote.webelement.WebElement (session=\"87495cd366c8de9ccfb48c188c464dab\", element=\"f8352263-5e40-4dcf-8733-a1923975d66e\")>,\n",
       " <selenium.webdriver.remote.webelement.WebElement (session=\"87495cd366c8de9ccfb48c188c464dab\", element=\"10d28f70-176d-404a-879b-1b2179a4a5fe\")>,\n",
       " <selenium.webdriver.remote.webelement.WebElement (session=\"87495cd366c8de9ccfb48c188c464dab\", element=\"092017a4-0db0-4185-b965-bf1735a48544\")>,\n",
       " <selenium.webdriver.remote.webelement.WebElement (session=\"87495cd366c8de9ccfb48c188c464dab\", element=\"27db0539-ed23-4771-8211-586eb3b5c4d3\")>,\n",
       " <selenium.webdriver.remote.webelement.WebElement (session=\"87495cd366c8de9ccfb48c188c464dab\", element=\"b2e560b3-3fdd-44cc-ae8b-f8eb8a0a1df9\")>,\n",
       " <selenium.webdriver.remote.webelement.WebElement (session=\"87495cd366c8de9ccfb48c188c464dab\", element=\"b28ff1a7-8fd3-45a9-8864-5bad0fe627bd\")>,\n",
       " <selenium.webdriver.remote.webelement.WebElement (session=\"87495cd366c8de9ccfb48c188c464dab\", element=\"b4c132c9-0fd1-4f19-972d-7dcb4d1b6ebe\")>]"
      ]
     },
     "execution_count": 27,
     "metadata": {},
     "output_type": "execute_result"
    }
   ],
   "source": [
    "loc=driver.find_elements_by_xpath(\"//li[@class='fleft grey-text br2 placeHolderLi location']\")\n",
    "loc[0:10]"
   ]
  },
  {
   "cell_type": "code",
   "execution_count": 28,
   "id": "bd4b5e79",
   "metadata": {},
   "outputs": [
    {
     "data": {
      "text/plain": [
       "['Noida, Mumbai, Bangalore/Bengaluru',\n",
       " 'Kolkata, Hyderabad/Secunderabad, Pune, Ahmedabad, Chennai, Bangalore/Bengaluru, Delhi / NCR, Mumbai (All Areas)',\n",
       " 'Kolkata, Hyderabad/Secunderabad, Chennai, Bangalore/Bengaluru, Delhi / NCR, Mumbai (All Areas)',\n",
       " 'Bangalore/Bengaluru',\n",
       " 'Bangalore/Bengaluru',\n",
       " 'Bangalore/Bengaluru',\n",
       " 'Bangalore/Bengaluru',\n",
       " 'Bangalore/Bengaluru',\n",
       " 'Bangalore/Bengaluru',\n",
       " 'Bangalore/Bengaluru']"
      ]
     },
     "execution_count": 28,
     "metadata": {},
     "output_type": "execute_result"
    }
   ],
   "source": [
    "for i in loc:\n",
    "    location=i.text\n",
    "    job_location.append(location)\n",
    "job_location[0:10]"
   ]
  },
  {
   "cell_type": "code",
   "execution_count": 29,
   "id": "44ad5b63",
   "metadata": {},
   "outputs": [
    {
     "data": {
      "text/plain": [
       "[<selenium.webdriver.remote.webelement.WebElement (session=\"87495cd366c8de9ccfb48c188c464dab\", element=\"0ac411c8-625e-4a1e-9a8f-a7dba7c6d592\")>,\n",
       " <selenium.webdriver.remote.webelement.WebElement (session=\"87495cd366c8de9ccfb48c188c464dab\", element=\"519264cd-e813-4da7-9653-6cf7c8ffffd8\")>,\n",
       " <selenium.webdriver.remote.webelement.WebElement (session=\"87495cd366c8de9ccfb48c188c464dab\", element=\"abda43c8-65de-4deb-b8cb-9e9c7747b00d\")>,\n",
       " <selenium.webdriver.remote.webelement.WebElement (session=\"87495cd366c8de9ccfb48c188c464dab\", element=\"e9dfb71d-29a8-4f5f-b1c0-6336e1af80a6\")>,\n",
       " <selenium.webdriver.remote.webelement.WebElement (session=\"87495cd366c8de9ccfb48c188c464dab\", element=\"552d8166-bb6f-426e-ad83-9d5f890ed6e7\")>,\n",
       " <selenium.webdriver.remote.webelement.WebElement (session=\"87495cd366c8de9ccfb48c188c464dab\", element=\"f7f2413e-df21-4d5e-bc5c-c59fb3b772b7\")>,\n",
       " <selenium.webdriver.remote.webelement.WebElement (session=\"87495cd366c8de9ccfb48c188c464dab\", element=\"7fc2fe9b-f19e-4efb-ac44-d3cd08e6924b\")>,\n",
       " <selenium.webdriver.remote.webelement.WebElement (session=\"87495cd366c8de9ccfb48c188c464dab\", element=\"6119a61c-1fcb-4070-911c-c69608d52787\")>,\n",
       " <selenium.webdriver.remote.webelement.WebElement (session=\"87495cd366c8de9ccfb48c188c464dab\", element=\"76e951e9-3424-4f11-9183-327e4093c39d\")>,\n",
       " <selenium.webdriver.remote.webelement.WebElement (session=\"87495cd366c8de9ccfb48c188c464dab\", element=\"473e8995-cf35-4f02-b9ae-76c5ce0c5560\")>]"
      ]
     },
     "execution_count": 29,
     "metadata": {},
     "output_type": "execute_result"
    }
   ],
   "source": [
    "company=driver.find_elements_by_xpath(\"//a[@class='subTitle ellipsis fleft']\")\n",
    "company[0:10]"
   ]
  },
  {
   "cell_type": "code",
   "execution_count": 30,
   "id": "d020e696",
   "metadata": {},
   "outputs": [
    {
     "data": {
      "text/plain": [
       "['Paytm',\n",
       " 'Wipro',\n",
       " 'Wipro',\n",
       " 'Concentrix Daksh Services',\n",
       " 'Applied Materials',\n",
       " 'Applied Materials',\n",
       " 'Applied Materials',\n",
       " 'Applied Materials',\n",
       " 'Applied Materials',\n",
       " 'AT and T Global Business Services India P. Ltd.']"
      ]
     },
     "execution_count": 30,
     "metadata": {},
     "output_type": "execute_result"
    }
   ],
   "source": [
    "for i in company:\n",
    "    name=i.text\n",
    "    company_name.append(name)\n",
    "company_name[0:10]"
   ]
  },
  {
   "cell_type": "code",
   "execution_count": 31,
   "id": "60cb2c8a",
   "metadata": {},
   "outputs": [
    {
     "name": "stdout",
     "output_type": "stream",
     "text": [
      "20 20 20\n"
     ]
    }
   ],
   "source": [
    "print(len(job_title),len(job_location),len(company_name))"
   ]
  },
  {
   "cell_type": "code",
   "execution_count": 32,
   "id": "ec385a4d",
   "metadata": {},
   "outputs": [
    {
     "data": {
      "text/html": [
       "<div>\n",
       "<style scoped>\n",
       "    .dataframe tbody tr th:only-of-type {\n",
       "        vertical-align: middle;\n",
       "    }\n",
       "\n",
       "    .dataframe tbody tr th {\n",
       "        vertical-align: top;\n",
       "    }\n",
       "\n",
       "    .dataframe thead th {\n",
       "        text-align: right;\n",
       "    }\n",
       "</style>\n",
       "<table border=\"1\" class=\"dataframe\">\n",
       "  <thead>\n",
       "    <tr style=\"text-align: right;\">\n",
       "      <th></th>\n",
       "      <th>Designation</th>\n",
       "      <th>Location</th>\n",
       "      <th>Name_of_Company</th>\n",
       "    </tr>\n",
       "  </thead>\n",
       "  <tbody>\n",
       "    <tr>\n",
       "      <th>0</th>\n",
       "      <td>Data Science - Engineering Manager</td>\n",
       "      <td>Noida, Mumbai, Bangalore/Bengaluru</td>\n",
       "      <td>Paytm</td>\n",
       "    </tr>\n",
       "    <tr>\n",
       "      <th>1</th>\n",
       "      <td>AI Technologist Vacancy</td>\n",
       "      <td>Kolkata, Hyderabad/Secunderabad, Pune, Ahmedab...</td>\n",
       "      <td>Wipro</td>\n",
       "    </tr>\n",
       "    <tr>\n",
       "      <th>2</th>\n",
       "      <td>Job Opening with Wipro For Data Scientist posi...</td>\n",
       "      <td>Kolkata, Hyderabad/Secunderabad, Chennai, Bang...</td>\n",
       "      <td>Wipro</td>\n",
       "    </tr>\n",
       "    <tr>\n",
       "      <th>3</th>\n",
       "      <td>DATA Scientist with Fraud Analytics Experience</td>\n",
       "      <td>Bangalore/Bengaluru</td>\n",
       "      <td>Concentrix Daksh Services</td>\n",
       "    </tr>\n",
       "    <tr>\n",
       "      <th>4</th>\n",
       "      <td>Data Scientist</td>\n",
       "      <td>Bangalore/Bengaluru</td>\n",
       "      <td>Applied Materials</td>\n",
       "    </tr>\n",
       "    <tr>\n",
       "      <th>5</th>\n",
       "      <td>Data Scientist</td>\n",
       "      <td>Bangalore/Bengaluru</td>\n",
       "      <td>Applied Materials</td>\n",
       "    </tr>\n",
       "    <tr>\n",
       "      <th>6</th>\n",
       "      <td>Data Scientist</td>\n",
       "      <td>Bangalore/Bengaluru</td>\n",
       "      <td>Applied Materials</td>\n",
       "    </tr>\n",
       "    <tr>\n",
       "      <th>7</th>\n",
       "      <td>Data Scientist</td>\n",
       "      <td>Bangalore/Bengaluru</td>\n",
       "      <td>Applied Materials</td>\n",
       "    </tr>\n",
       "    <tr>\n",
       "      <th>8</th>\n",
       "      <td>Data Scientist</td>\n",
       "      <td>Bangalore/Bengaluru</td>\n",
       "      <td>Applied Materials</td>\n",
       "    </tr>\n",
       "    <tr>\n",
       "      <th>9</th>\n",
       "      <td>Specialist - Data Scientist</td>\n",
       "      <td>Bangalore/Bengaluru</td>\n",
       "      <td>AT and T Global Business Services India P. Ltd.</td>\n",
       "    </tr>\n",
       "    <tr>\n",
       "      <th>10</th>\n",
       "      <td>Looking For Data Scientist ( Exp in R OR R Shiny)</td>\n",
       "      <td>Bangalore/Bengaluru</td>\n",
       "      <td>Evalueserve</td>\n",
       "    </tr>\n",
       "    <tr>\n",
       "      <th>11</th>\n",
       "      <td>Data Scientist</td>\n",
       "      <td>Bangalore/Bengaluru</td>\n",
       "      <td>Genpact</td>\n",
       "    </tr>\n",
       "    <tr>\n",
       "      <th>12</th>\n",
       "      <td>Data Scientist- AI/ML- R&amp;D</td>\n",
       "      <td>Noida, Hyderabad/Secunderabad, Pune, Gurgaon/G...</td>\n",
       "      <td>EXL</td>\n",
       "    </tr>\n",
       "    <tr>\n",
       "      <th>13</th>\n",
       "      <td>Urgent Hiring For AI Data Scientist</td>\n",
       "      <td>New Delhi, Bangalore/Bengaluru, Mumbai (All Ar...</td>\n",
       "      <td>Ashkom Media India Private Limited</td>\n",
       "    </tr>\n",
       "    <tr>\n",
       "      <th>14</th>\n",
       "      <td>Data Scientist</td>\n",
       "      <td>Mumbai, Bangalore/Bengaluru</td>\n",
       "      <td>UPL</td>\n",
       "    </tr>\n",
       "    <tr>\n",
       "      <th>15</th>\n",
       "      <td>Data Scientist</td>\n",
       "      <td>Bangalore/Bengaluru, Mumbai (All Areas)</td>\n",
       "      <td>UPL</td>\n",
       "    </tr>\n",
       "    <tr>\n",
       "      <th>16</th>\n",
       "      <td>Data Scientist</td>\n",
       "      <td>Bangalore/Bengaluru, Delhi / NCR, Mumbai (All ...</td>\n",
       "      <td>Jacobs</td>\n",
       "    </tr>\n",
       "    <tr>\n",
       "      <th>17</th>\n",
       "      <td>Senior Data Scientist</td>\n",
       "      <td>Bangalore/Bengaluru</td>\n",
       "      <td>Walmart</td>\n",
       "    </tr>\n",
       "    <tr>\n",
       "      <th>18</th>\n",
       "      <td>Senior Data Scientist</td>\n",
       "      <td>Bangalore/Bengaluru</td>\n",
       "      <td>Walmart</td>\n",
       "    </tr>\n",
       "    <tr>\n",
       "      <th>19</th>\n",
       "      <td>Data Scientist</td>\n",
       "      <td>Bangalore/Bengaluru</td>\n",
       "      <td>Genpact</td>\n",
       "    </tr>\n",
       "  </tbody>\n",
       "</table>\n",
       "</div>"
      ],
      "text/plain": [
       "                                          Designation  \\\n",
       "0                  Data Science - Engineering Manager   \n",
       "1                             AI Technologist Vacancy   \n",
       "2   Job Opening with Wipro For Data Scientist posi...   \n",
       "3      DATA Scientist with Fraud Analytics Experience   \n",
       "4                                      Data Scientist   \n",
       "5                                      Data Scientist   \n",
       "6                                      Data Scientist   \n",
       "7                                      Data Scientist   \n",
       "8                                      Data Scientist   \n",
       "9                         Specialist - Data Scientist   \n",
       "10  Looking For Data Scientist ( Exp in R OR R Shiny)   \n",
       "11                                     Data Scientist   \n",
       "12                         Data Scientist- AI/ML- R&D   \n",
       "13                Urgent Hiring For AI Data Scientist   \n",
       "14                                     Data Scientist   \n",
       "15                                     Data Scientist   \n",
       "16                                     Data Scientist   \n",
       "17                              Senior Data Scientist   \n",
       "18                              Senior Data Scientist   \n",
       "19                                     Data Scientist   \n",
       "\n",
       "                                             Location  \\\n",
       "0                  Noida, Mumbai, Bangalore/Bengaluru   \n",
       "1   Kolkata, Hyderabad/Secunderabad, Pune, Ahmedab...   \n",
       "2   Kolkata, Hyderabad/Secunderabad, Chennai, Bang...   \n",
       "3                                 Bangalore/Bengaluru   \n",
       "4                                 Bangalore/Bengaluru   \n",
       "5                                 Bangalore/Bengaluru   \n",
       "6                                 Bangalore/Bengaluru   \n",
       "7                                 Bangalore/Bengaluru   \n",
       "8                                 Bangalore/Bengaluru   \n",
       "9                                 Bangalore/Bengaluru   \n",
       "10                                Bangalore/Bengaluru   \n",
       "11                                Bangalore/Bengaluru   \n",
       "12  Noida, Hyderabad/Secunderabad, Pune, Gurgaon/G...   \n",
       "13  New Delhi, Bangalore/Bengaluru, Mumbai (All Ar...   \n",
       "14                        Mumbai, Bangalore/Bengaluru   \n",
       "15            Bangalore/Bengaluru, Mumbai (All Areas)   \n",
       "16  Bangalore/Bengaluru, Delhi / NCR, Mumbai (All ...   \n",
       "17                                Bangalore/Bengaluru   \n",
       "18                                Bangalore/Bengaluru   \n",
       "19                                Bangalore/Bengaluru   \n",
       "\n",
       "                                    Name_of_Company  \n",
       "0                                             Paytm  \n",
       "1                                             Wipro  \n",
       "2                                             Wipro  \n",
       "3                         Concentrix Daksh Services  \n",
       "4                                 Applied Materials  \n",
       "5                                 Applied Materials  \n",
       "6                                 Applied Materials  \n",
       "7                                 Applied Materials  \n",
       "8                                 Applied Materials  \n",
       "9   AT and T Global Business Services India P. Ltd.  \n",
       "10                                      Evalueserve  \n",
       "11                                          Genpact  \n",
       "12                                              EXL  \n",
       "13               Ashkom Media India Private Limited  \n",
       "14                                              UPL  \n",
       "15                                              UPL  \n",
       "16                                           Jacobs  \n",
       "17                                          Walmart  \n",
       "18                                          Walmart  \n",
       "19                                          Genpact  "
      ]
     },
     "execution_count": 32,
     "metadata": {},
     "output_type": "execute_result"
    }
   ],
   "source": [
    "df=pd.DataFrame({})\n",
    "df['Designation']=job_title\n",
    "df['Location']=job_location\n",
    "df['Name_of_Company']=company_name\n",
    "\n",
    "df"
   ]
  },
  {
   "cell_type": "code",
   "execution_count": 33,
   "id": "92009ea5",
   "metadata": {},
   "outputs": [],
   "source": [
    "driver.close()"
   ]
  },
  {
   "cell_type": "markdown",
   "id": "df1b66bf",
   "metadata": {},
   "source": [
    "# Q3"
   ]
  },
  {
   "cell_type": "code",
   "execution_count": 34,
   "id": "da938912",
   "metadata": {},
   "outputs": [],
   "source": [
    "driver = webdriver.Chrome(\"Chromedriver.exe\")"
   ]
  },
  {
   "cell_type": "code",
   "execution_count": 35,
   "id": "6a9da074",
   "metadata": {},
   "outputs": [],
   "source": [
    "driver.get(\"http://www.naukri.com/\")"
   ]
  },
  {
   "cell_type": "code",
   "execution_count": 36,
   "id": "46586f21",
   "metadata": {},
   "outputs": [],
   "source": [
    "designation=driver.find_element_by_class_name(\"suggestor-input \")\n",
    "designation.send_keys(\"Data Scientist\")"
   ]
  },
  {
   "cell_type": "code",
   "execution_count": 37,
   "id": "9c44475d",
   "metadata": {},
   "outputs": [],
   "source": [
    "search_button= driver.find_element_by_xpath(\"/html/body/div/div[2]/div[3]/div/div/div[6]\")\n",
    "search_button.click()"
   ]
  },
  {
   "cell_type": "code",
   "execution_count": 38,
   "id": "236f3ce6",
   "metadata": {},
   "outputs": [],
   "source": [
    "job_title=[]\n",
    "job_location=[]\n",
    "company_name=[]\n",
    "experience=[]"
   ]
  },
  {
   "cell_type": "code",
   "execution_count": 39,
   "id": "36e3ef40",
   "metadata": {
    "scrolled": true
   },
   "outputs": [
    {
     "data": {
      "text/plain": [
       "[<selenium.webdriver.remote.webelement.WebElement (session=\"48dd7587a721f12fd0812fdd99c8a41a\", element=\"a1ed1bd2-9401-4fae-9a55-3be1133466f6\")>,\n",
       " <selenium.webdriver.remote.webelement.WebElement (session=\"48dd7587a721f12fd0812fdd99c8a41a\", element=\"c2ab414e-0f76-4897-bfb6-705f1678a017\")>,\n",
       " <selenium.webdriver.remote.webelement.WebElement (session=\"48dd7587a721f12fd0812fdd99c8a41a\", element=\"4c650609-4f95-4ffc-8f3b-790191497163\")>,\n",
       " <selenium.webdriver.remote.webelement.WebElement (session=\"48dd7587a721f12fd0812fdd99c8a41a\", element=\"714bb8c9-de2f-470c-8a4f-c7e6853f706b\")>,\n",
       " <selenium.webdriver.remote.webelement.WebElement (session=\"48dd7587a721f12fd0812fdd99c8a41a\", element=\"25a8d4aa-ed67-4c1f-b2f1-22cfab64f317\")>,\n",
       " <selenium.webdriver.remote.webelement.WebElement (session=\"48dd7587a721f12fd0812fdd99c8a41a\", element=\"928725cd-2213-499e-9545-1d1931cd9943\")>,\n",
       " <selenium.webdriver.remote.webelement.WebElement (session=\"48dd7587a721f12fd0812fdd99c8a41a\", element=\"0cdc3978-1a0d-441c-b8f0-aaffcd1ea3cd\")>,\n",
       " <selenium.webdriver.remote.webelement.WebElement (session=\"48dd7587a721f12fd0812fdd99c8a41a\", element=\"163cfd3b-d545-4ab1-a00c-4ae712ad223f\")>,\n",
       " <selenium.webdriver.remote.webelement.WebElement (session=\"48dd7587a721f12fd0812fdd99c8a41a\", element=\"c21db794-6008-4fc1-87a3-c5b323d19f27\")>,\n",
       " <selenium.webdriver.remote.webelement.WebElement (session=\"48dd7587a721f12fd0812fdd99c8a41a\", element=\"2cae78e2-46b9-4da7-b95f-dccf3677af92\")>]"
      ]
     },
     "execution_count": 39,
     "metadata": {},
     "output_type": "execute_result"
    }
   ],
   "source": [
    "desig=driver.find_elements_by_xpath(\"//a[@class='title fw500 ellipsis']\")\n",
    "desig[0:10]"
   ]
  },
  {
   "cell_type": "code",
   "execution_count": 40,
   "id": "dccbb7c5",
   "metadata": {},
   "outputs": [
    {
     "data": {
      "text/plain": [
       "['AI Technologist Vacancy',\n",
       " 'Data Scientist- AI/ML- R&D',\n",
       " 'Senior Data Scientist',\n",
       " 'Digital-Senior Process Manager- Data Scientist SPM',\n",
       " 'Join EY GDS - AI/ML Python Developers',\n",
       " 'Senior Data Scientist',\n",
       " 'Data Scientist - Python/Machine Learning',\n",
       " 'Lead Data Scientist',\n",
       " 'Great Opportunity For Data Scientist with MSys Technologies',\n",
       " 'Great Opportunity For Data Scientist with MSys Technologies']"
      ]
     },
     "execution_count": 40,
     "metadata": {},
     "output_type": "execute_result"
    }
   ],
   "source": [
    "for i in desig:\n",
    "    title=i.text\n",
    "    job_title.append(title)\n",
    "job_title[0:10]"
   ]
  },
  {
   "cell_type": "code",
   "execution_count": 41,
   "id": "54bca5b5",
   "metadata": {},
   "outputs": [
    {
     "data": {
      "text/plain": [
       "[<selenium.webdriver.remote.webelement.WebElement (session=\"48dd7587a721f12fd0812fdd99c8a41a\", element=\"d492957e-7330-43c7-bc1c-c5c7f36dd2f0\")>,\n",
       " <selenium.webdriver.remote.webelement.WebElement (session=\"48dd7587a721f12fd0812fdd99c8a41a\", element=\"1e812c67-3069-4837-b245-00f8eedb2205\")>,\n",
       " <selenium.webdriver.remote.webelement.WebElement (session=\"48dd7587a721f12fd0812fdd99c8a41a\", element=\"61d6fa29-4ac9-4073-870a-62a756fe4d69\")>,\n",
       " <selenium.webdriver.remote.webelement.WebElement (session=\"48dd7587a721f12fd0812fdd99c8a41a\", element=\"682008a2-4cf6-4d81-b727-3ef186cd8e11\")>,\n",
       " <selenium.webdriver.remote.webelement.WebElement (session=\"48dd7587a721f12fd0812fdd99c8a41a\", element=\"12cc4604-4091-4f1a-a6c0-06b0354dacba\")>,\n",
       " <selenium.webdriver.remote.webelement.WebElement (session=\"48dd7587a721f12fd0812fdd99c8a41a\", element=\"cda82f43-87b9-451d-aaeb-27a93c450603\")>,\n",
       " <selenium.webdriver.remote.webelement.WebElement (session=\"48dd7587a721f12fd0812fdd99c8a41a\", element=\"c147d4fe-4993-4844-8ad0-bbed943dfa5f\")>,\n",
       " <selenium.webdriver.remote.webelement.WebElement (session=\"48dd7587a721f12fd0812fdd99c8a41a\", element=\"0bcf3585-bec0-4d44-beaa-1a90a301cbb3\")>,\n",
       " <selenium.webdriver.remote.webelement.WebElement (session=\"48dd7587a721f12fd0812fdd99c8a41a\", element=\"0e6c2d08-0977-4d68-83dc-5903371422ce\")>,\n",
       " <selenium.webdriver.remote.webelement.WebElement (session=\"48dd7587a721f12fd0812fdd99c8a41a\", element=\"a91a523b-4c87-44a1-8682-428ba9fe1cd7\")>]"
      ]
     },
     "execution_count": 41,
     "metadata": {},
     "output_type": "execute_result"
    }
   ],
   "source": [
    "loc=driver.find_elements_by_xpath(\"//li[@class='fleft grey-text br2 placeHolderLi location']\")\n",
    "loc[0:10]"
   ]
  },
  {
   "cell_type": "code",
   "execution_count": 42,
   "id": "29f9632f",
   "metadata": {},
   "outputs": [
    {
     "data": {
      "text/plain": [
       "['Kolkata, Hyderabad/Secunderabad, Pune, Ahmedabad, Chennai, Bangalore/Bengaluru, Delhi / NCR, Mumbai (All Areas)',\n",
       " 'Noida, Hyderabad/Secunderabad, Pune, Gurgaon/Gurugram, Chennai, Bangalore/Bengaluru, Delhi / NCR',\n",
       " 'Pune',\n",
       " 'Pune',\n",
       " 'Noida, Kolkata, Pune, Bangalore/Bengaluru',\n",
       " 'Pune',\n",
       " 'Kolkata, Mumbai, Hyderabad/Secunderabad, Pune, Chennai, Ahmedabad, Bangalore/Bengaluru, Delhi / NCR',\n",
       " 'Mumbai, Hyderabad/Secunderabad, Pune, Chennai, Bangalore/Bengaluru',\n",
       " 'Pune, Chennai, Bangalore/Bengaluru',\n",
       " 'Pune, Chennai, Bangalore/Bengaluru']"
      ]
     },
     "execution_count": 42,
     "metadata": {},
     "output_type": "execute_result"
    }
   ],
   "source": [
    "for i in loc:\n",
    "    location=i.text\n",
    "    job_location.append(location)\n",
    "job_location[0:10]"
   ]
  },
  {
   "cell_type": "code",
   "execution_count": 43,
   "id": "ac79379c",
   "metadata": {},
   "outputs": [
    {
     "data": {
      "text/plain": [
       "[<selenium.webdriver.remote.webelement.WebElement (session=\"48dd7587a721f12fd0812fdd99c8a41a\", element=\"fc16ddd4-9c6d-4eab-987e-41690791b902\")>,\n",
       " <selenium.webdriver.remote.webelement.WebElement (session=\"48dd7587a721f12fd0812fdd99c8a41a\", element=\"7991f380-8181-4f68-9e79-e2711fb04bce\")>,\n",
       " <selenium.webdriver.remote.webelement.WebElement (session=\"48dd7587a721f12fd0812fdd99c8a41a\", element=\"59c65a90-b88a-4206-b771-c691835c1a8e\")>,\n",
       " <selenium.webdriver.remote.webelement.WebElement (session=\"48dd7587a721f12fd0812fdd99c8a41a\", element=\"7d3dd064-cc79-4406-bf03-fd409c62bcda\")>,\n",
       " <selenium.webdriver.remote.webelement.WebElement (session=\"48dd7587a721f12fd0812fdd99c8a41a\", element=\"bf62a3f5-dd1c-437b-b3bd-724acac071ab\")>,\n",
       " <selenium.webdriver.remote.webelement.WebElement (session=\"48dd7587a721f12fd0812fdd99c8a41a\", element=\"94e094a8-a63c-4471-88f2-103f4c50b7a5\")>,\n",
       " <selenium.webdriver.remote.webelement.WebElement (session=\"48dd7587a721f12fd0812fdd99c8a41a\", element=\"cc6d704b-bb38-40bc-bf36-0450decebc8d\")>,\n",
       " <selenium.webdriver.remote.webelement.WebElement (session=\"48dd7587a721f12fd0812fdd99c8a41a\", element=\"2f36db5c-b39f-4c3c-8295-088193ba5c25\")>,\n",
       " <selenium.webdriver.remote.webelement.WebElement (session=\"48dd7587a721f12fd0812fdd99c8a41a\", element=\"63f36aa1-e76e-4860-bf23-810de09af738\")>,\n",
       " <selenium.webdriver.remote.webelement.WebElement (session=\"48dd7587a721f12fd0812fdd99c8a41a\", element=\"628a20ca-2605-45e4-a1e0-7049a561baa9\")>]"
      ]
     },
     "execution_count": 43,
     "metadata": {},
     "output_type": "execute_result"
    }
   ],
   "source": [
    "company=driver.find_elements_by_xpath(\"//a[@class='subTitle ellipsis fleft']\")\n",
    "company[0:10]"
   ]
  },
  {
   "cell_type": "code",
   "execution_count": 44,
   "id": "354109c1",
   "metadata": {},
   "outputs": [
    {
     "data": {
      "text/plain": [
       "['Wipro',\n",
       " 'EXL',\n",
       " 'ICERTIS Solutions',\n",
       " 'eClerx',\n",
       " 'E&Y',\n",
       " 'Fractal Analytics',\n",
       " 'Accubits Technologies',\n",
       " 'Xpheno',\n",
       " 'MSys Tech India Pvt. Ltd.',\n",
       " 'MSys Tech India Pvt. Ltd.']"
      ]
     },
     "execution_count": 44,
     "metadata": {},
     "output_type": "execute_result"
    }
   ],
   "source": [
    "for i in company:\n",
    "    name=i.text\n",
    "    company_name.append(name)\n",
    "company_name[0:10]"
   ]
  },
  {
   "cell_type": "code",
   "execution_count": 45,
   "id": "e33face4",
   "metadata": {},
   "outputs": [
    {
     "data": {
      "text/plain": [
       "[<selenium.webdriver.remote.webelement.WebElement (session=\"48dd7587a721f12fd0812fdd99c8a41a\", element=\"bca6c267-0a8c-45a0-8c24-569cd9b7cdf6\")>,\n",
       " <selenium.webdriver.remote.webelement.WebElement (session=\"48dd7587a721f12fd0812fdd99c8a41a\", element=\"38b9125c-f1e7-4542-9f4c-041f0074745f\")>,\n",
       " <selenium.webdriver.remote.webelement.WebElement (session=\"48dd7587a721f12fd0812fdd99c8a41a\", element=\"3c81225c-8e5b-49d0-acfe-ff6ca06970b2\")>,\n",
       " <selenium.webdriver.remote.webelement.WebElement (session=\"48dd7587a721f12fd0812fdd99c8a41a\", element=\"ad12f12d-9fbe-43bc-a01d-b6d22fae3fd4\")>,\n",
       " <selenium.webdriver.remote.webelement.WebElement (session=\"48dd7587a721f12fd0812fdd99c8a41a\", element=\"834b37a1-581b-4bc3-a475-dcbc8a79503a\")>,\n",
       " <selenium.webdriver.remote.webelement.WebElement (session=\"48dd7587a721f12fd0812fdd99c8a41a\", element=\"c6a11ddb-998d-4a58-9b18-c5f77a34910a\")>,\n",
       " <selenium.webdriver.remote.webelement.WebElement (session=\"48dd7587a721f12fd0812fdd99c8a41a\", element=\"9969a2db-6fc5-40e6-b79d-29f358082b60\")>,\n",
       " <selenium.webdriver.remote.webelement.WebElement (session=\"48dd7587a721f12fd0812fdd99c8a41a\", element=\"34b097b0-b87c-465e-81e1-9656ec0ff561\")>,\n",
       " <selenium.webdriver.remote.webelement.WebElement (session=\"48dd7587a721f12fd0812fdd99c8a41a\", element=\"828bb881-e96e-4fb0-ab7f-34d085ace76c\")>,\n",
       " <selenium.webdriver.remote.webelement.WebElement (session=\"48dd7587a721f12fd0812fdd99c8a41a\", element=\"cc2b479d-f435-4f16-8c1f-8c61a3b38b28\")>]"
      ]
     },
     "execution_count": 45,
     "metadata": {},
     "output_type": "execute_result"
    }
   ],
   "source": [
    "exp=driver.find_elements_by_xpath(\"//li[@class='fleft grey-text br2 placeHolderLi experience']\")\n",
    "exp[0:10]"
   ]
  },
  {
   "cell_type": "code",
   "execution_count": 46,
   "id": "b0424daf",
   "metadata": {},
   "outputs": [
    {
     "data": {
      "text/plain": [
       "['6-11 Yrs',\n",
       " '2-6 Yrs',\n",
       " '10-14 Yrs',\n",
       " '8-13 Yrs',\n",
       " '5-8 Yrs',\n",
       " '5-10 Yrs',\n",
       " '4-8 Yrs',\n",
       " '5-8 Yrs',\n",
       " '4-8 Yrs',\n",
       " '4-8 Yrs']"
      ]
     },
     "execution_count": 46,
     "metadata": {},
     "output_type": "execute_result"
    }
   ],
   "source": [
    "for i in exp:\n",
    "    exp_req=i.text\n",
    "    experience.append(exp_req)\n",
    "experience[0:10]"
   ]
  },
  {
   "cell_type": "code",
   "execution_count": 47,
   "id": "00fca10c",
   "metadata": {},
   "outputs": [
    {
     "name": "stdout",
     "output_type": "stream",
     "text": [
      "20 20 20 20\n"
     ]
    }
   ],
   "source": [
    "print(len(job_title),len(job_location),len(company_name),len(experience))"
   ]
  },
  {
   "cell_type": "code",
   "execution_count": 48,
   "id": "f6eadea9",
   "metadata": {},
   "outputs": [
    {
     "data": {
      "text/html": [
       "<div>\n",
       "<style scoped>\n",
       "    .dataframe tbody tr th:only-of-type {\n",
       "        vertical-align: middle;\n",
       "    }\n",
       "\n",
       "    .dataframe tbody tr th {\n",
       "        vertical-align: top;\n",
       "    }\n",
       "\n",
       "    .dataframe thead th {\n",
       "        text-align: right;\n",
       "    }\n",
       "</style>\n",
       "<table border=\"1\" class=\"dataframe\">\n",
       "  <thead>\n",
       "    <tr style=\"text-align: right;\">\n",
       "      <th></th>\n",
       "      <th>Designation</th>\n",
       "      <th>Location</th>\n",
       "      <th>Company</th>\n",
       "      <th>Experience_Required</th>\n",
       "    </tr>\n",
       "  </thead>\n",
       "  <tbody>\n",
       "    <tr>\n",
       "      <th>0</th>\n",
       "      <td>AI Technologist Vacancy</td>\n",
       "      <td>Kolkata, Hyderabad/Secunderabad, Pune, Ahmedab...</td>\n",
       "      <td>Wipro</td>\n",
       "      <td>6-11 Yrs</td>\n",
       "    </tr>\n",
       "    <tr>\n",
       "      <th>1</th>\n",
       "      <td>Data Scientist- AI/ML- R&amp;D</td>\n",
       "      <td>Noida, Hyderabad/Secunderabad, Pune, Gurgaon/G...</td>\n",
       "      <td>EXL</td>\n",
       "      <td>2-6 Yrs</td>\n",
       "    </tr>\n",
       "    <tr>\n",
       "      <th>2</th>\n",
       "      <td>Senior Data Scientist</td>\n",
       "      <td>Pune</td>\n",
       "      <td>ICERTIS Solutions</td>\n",
       "      <td>10-14 Yrs</td>\n",
       "    </tr>\n",
       "    <tr>\n",
       "      <th>3</th>\n",
       "      <td>Digital-Senior Process Manager- Data Scientist...</td>\n",
       "      <td>Pune</td>\n",
       "      <td>eClerx</td>\n",
       "      <td>8-13 Yrs</td>\n",
       "    </tr>\n",
       "    <tr>\n",
       "      <th>4</th>\n",
       "      <td>Join EY GDS - AI/ML Python Developers</td>\n",
       "      <td>Noida, Kolkata, Pune, Bangalore/Bengaluru</td>\n",
       "      <td>E&amp;Y</td>\n",
       "      <td>5-8 Yrs</td>\n",
       "    </tr>\n",
       "    <tr>\n",
       "      <th>5</th>\n",
       "      <td>Senior Data Scientist</td>\n",
       "      <td>Pune</td>\n",
       "      <td>Fractal Analytics</td>\n",
       "      <td>5-10 Yrs</td>\n",
       "    </tr>\n",
       "    <tr>\n",
       "      <th>6</th>\n",
       "      <td>Data Scientist - Python/Machine Learning</td>\n",
       "      <td>Kolkata, Mumbai, Hyderabad/Secunderabad, Pune,...</td>\n",
       "      <td>Accubits Technologies</td>\n",
       "      <td>4-8 Yrs</td>\n",
       "    </tr>\n",
       "    <tr>\n",
       "      <th>7</th>\n",
       "      <td>Lead Data Scientist</td>\n",
       "      <td>Mumbai, Hyderabad/Secunderabad, Pune, Chennai,...</td>\n",
       "      <td>Xpheno</td>\n",
       "      <td>5-8 Yrs</td>\n",
       "    </tr>\n",
       "    <tr>\n",
       "      <th>8</th>\n",
       "      <td>Great Opportunity For Data Scientist with MSys...</td>\n",
       "      <td>Pune, Chennai, Bangalore/Bengaluru</td>\n",
       "      <td>MSys Tech India Pvt. Ltd.</td>\n",
       "      <td>4-8 Yrs</td>\n",
       "    </tr>\n",
       "    <tr>\n",
       "      <th>9</th>\n",
       "      <td>Great Opportunity For Data Scientist with MSys...</td>\n",
       "      <td>Pune, Chennai, Bangalore/Bengaluru</td>\n",
       "      <td>MSys Tech India Pvt. Ltd.</td>\n",
       "      <td>4-8 Yrs</td>\n",
       "    </tr>\n",
       "    <tr>\n",
       "      <th>10</th>\n",
       "      <td>Data Scientist</td>\n",
       "      <td>Mumbai, Hyderabad/Secunderabad, New Delhi, Pun...</td>\n",
       "      <td>Intellect Design Arena Limited</td>\n",
       "      <td>2-7 Yrs</td>\n",
       "    </tr>\n",
       "    <tr>\n",
       "      <th>11</th>\n",
       "      <td>Data Scientist</td>\n",
       "      <td>Pune</td>\n",
       "      <td>Maxima Consulting</td>\n",
       "      <td>5-10 Yrs</td>\n",
       "    </tr>\n",
       "    <tr>\n",
       "      <th>12</th>\n",
       "      <td>Data Scientist</td>\n",
       "      <td>Hyderabad/Secunderabad, Pune, Bangalore/Bengaluru</td>\n",
       "      <td>Rekruiters Resource Managment LLP</td>\n",
       "      <td>4-8 Yrs</td>\n",
       "    </tr>\n",
       "    <tr>\n",
       "      <th>13</th>\n",
       "      <td>Data Science - Engineering Manager</td>\n",
       "      <td>Noida, Mumbai, Bangalore/Bengaluru</td>\n",
       "      <td>Paytm</td>\n",
       "      <td>9-13 Yrs</td>\n",
       "    </tr>\n",
       "    <tr>\n",
       "      <th>14</th>\n",
       "      <td>Data Scientist || Salary is no bar For right c...</td>\n",
       "      <td>Hyderabad/Secunderabad, Pune, Bangalore/Bengaluru</td>\n",
       "      <td>CELEBAL TECHNOLOGIES PRIVATE LIMITED</td>\n",
       "      <td>3-8 Yrs</td>\n",
       "    </tr>\n",
       "    <tr>\n",
       "      <th>15</th>\n",
       "      <td>Data Scientist - NLP/R/Python</td>\n",
       "      <td>Mumbai, Pune, Chennai, Gurgaon/Gurugram, Banga...</td>\n",
       "      <td>AIM recruits</td>\n",
       "      <td>5-7 Yrs</td>\n",
       "    </tr>\n",
       "    <tr>\n",
       "      <th>16</th>\n",
       "      <td>Data Scientist</td>\n",
       "      <td>Pune(Koregaon Park), Bangalore/Bengaluru(Bella...</td>\n",
       "      <td>Eversana</td>\n",
       "      <td>3-7 Yrs</td>\n",
       "    </tr>\n",
       "    <tr>\n",
       "      <th>17</th>\n",
       "      <td>Data Scientist - Senior (Remote) Fintech / Ban...</td>\n",
       "      <td>Pune, Bangalore/Bengaluru, Delhi / NCR</td>\n",
       "      <td>Team Plus Staffing Solution Pvt Ltd</td>\n",
       "      <td>5-10 Yrs</td>\n",
       "    </tr>\n",
       "    <tr>\n",
       "      <th>18</th>\n",
       "      <td>Spec, Data Scientist</td>\n",
       "      <td>Pune</td>\n",
       "      <td>BNY Mellon</td>\n",
       "      <td>6-11 Yrs</td>\n",
       "    </tr>\n",
       "    <tr>\n",
       "      <th>19</th>\n",
       "      <td>Data Scientist</td>\n",
       "      <td>Pune</td>\n",
       "      <td>XpressBees (Busybees logistics solutions Priva...</td>\n",
       "      <td>7-12 Yrs</td>\n",
       "    </tr>\n",
       "  </tbody>\n",
       "</table>\n",
       "</div>"
      ],
      "text/plain": [
       "                                          Designation  \\\n",
       "0                             AI Technologist Vacancy   \n",
       "1                          Data Scientist- AI/ML- R&D   \n",
       "2                               Senior Data Scientist   \n",
       "3   Digital-Senior Process Manager- Data Scientist...   \n",
       "4               Join EY GDS - AI/ML Python Developers   \n",
       "5                               Senior Data Scientist   \n",
       "6            Data Scientist - Python/Machine Learning   \n",
       "7                                 Lead Data Scientist   \n",
       "8   Great Opportunity For Data Scientist with MSys...   \n",
       "9   Great Opportunity For Data Scientist with MSys...   \n",
       "10                                     Data Scientist   \n",
       "11                                     Data Scientist   \n",
       "12                                     Data Scientist   \n",
       "13                 Data Science - Engineering Manager   \n",
       "14  Data Scientist || Salary is no bar For right c...   \n",
       "15                      Data Scientist - NLP/R/Python   \n",
       "16                                     Data Scientist   \n",
       "17  Data Scientist - Senior (Remote) Fintech / Ban...   \n",
       "18                               Spec, Data Scientist   \n",
       "19                                     Data Scientist   \n",
       "\n",
       "                                             Location  \\\n",
       "0   Kolkata, Hyderabad/Secunderabad, Pune, Ahmedab...   \n",
       "1   Noida, Hyderabad/Secunderabad, Pune, Gurgaon/G...   \n",
       "2                                                Pune   \n",
       "3                                                Pune   \n",
       "4           Noida, Kolkata, Pune, Bangalore/Bengaluru   \n",
       "5                                                Pune   \n",
       "6   Kolkata, Mumbai, Hyderabad/Secunderabad, Pune,...   \n",
       "7   Mumbai, Hyderabad/Secunderabad, Pune, Chennai,...   \n",
       "8                  Pune, Chennai, Bangalore/Bengaluru   \n",
       "9                  Pune, Chennai, Bangalore/Bengaluru   \n",
       "10  Mumbai, Hyderabad/Secunderabad, New Delhi, Pun...   \n",
       "11                                               Pune   \n",
       "12  Hyderabad/Secunderabad, Pune, Bangalore/Bengaluru   \n",
       "13                 Noida, Mumbai, Bangalore/Bengaluru   \n",
       "14  Hyderabad/Secunderabad, Pune, Bangalore/Bengaluru   \n",
       "15  Mumbai, Pune, Chennai, Gurgaon/Gurugram, Banga...   \n",
       "16  Pune(Koregaon Park), Bangalore/Bengaluru(Bella...   \n",
       "17             Pune, Bangalore/Bengaluru, Delhi / NCR   \n",
       "18                                               Pune   \n",
       "19                                               Pune   \n",
       "\n",
       "                                              Company Experience_Required  \n",
       "0                                               Wipro            6-11 Yrs  \n",
       "1                                                 EXL             2-6 Yrs  \n",
       "2                                   ICERTIS Solutions           10-14 Yrs  \n",
       "3                                              eClerx            8-13 Yrs  \n",
       "4                                                 E&Y             5-8 Yrs  \n",
       "5                                   Fractal Analytics            5-10 Yrs  \n",
       "6                               Accubits Technologies             4-8 Yrs  \n",
       "7                                              Xpheno             5-8 Yrs  \n",
       "8                           MSys Tech India Pvt. Ltd.             4-8 Yrs  \n",
       "9                           MSys Tech India Pvt. Ltd.             4-8 Yrs  \n",
       "10                     Intellect Design Arena Limited             2-7 Yrs  \n",
       "11                                  Maxima Consulting            5-10 Yrs  \n",
       "12                  Rekruiters Resource Managment LLP             4-8 Yrs  \n",
       "13                                              Paytm            9-13 Yrs  \n",
       "14               CELEBAL TECHNOLOGIES PRIVATE LIMITED             3-8 Yrs  \n",
       "15                                       AIM recruits             5-7 Yrs  \n",
       "16                                           Eversana             3-7 Yrs  \n",
       "17                Team Plus Staffing Solution Pvt Ltd            5-10 Yrs  \n",
       "18                                         BNY Mellon            6-11 Yrs  \n",
       "19  XpressBees (Busybees logistics solutions Priva...            7-12 Yrs  "
      ]
     },
     "execution_count": 48,
     "metadata": {},
     "output_type": "execute_result"
    }
   ],
   "source": [
    "Data=pd.DataFrame({})\n",
    "Data['Designation']=job_title\n",
    "Data['Location']=job_location\n",
    "Data['Company']=company_name\n",
    "Data['Experience_Required']=experience\n",
    "Data"
   ]
  },
  {
   "cell_type": "code",
   "execution_count": 49,
   "id": "870e7661",
   "metadata": {},
   "outputs": [],
   "source": [
    "driver.close()"
   ]
  },
  {
   "cell_type": "markdown",
   "id": "4b92de59",
   "metadata": {},
   "source": [
    "# Q4"
   ]
  },
  {
   "cell_type": "code",
   "execution_count": 62,
   "id": "4aba54ef",
   "metadata": {},
   "outputs": [],
   "source": [
    "driver=webdriver.Chrome(\"chromedriver.exe\")"
   ]
  },
  {
   "cell_type": "code",
   "execution_count": 63,
   "id": "4e7ff981",
   "metadata": {},
   "outputs": [],
   "source": [
    "driver.get(\"http://www.flipkart.com/\")"
   ]
  },
  {
   "cell_type": "code",
   "execution_count": 64,
   "id": "45ca0bc4",
   "metadata": {},
   "outputs": [],
   "source": [
    "Brand_Name=[]\n",
    "Product_dis=[]\n",
    "Price=[]"
   ]
  },
  {
   "cell_type": "code",
   "execution_count": 65,
   "id": "83835d1f",
   "metadata": {},
   "outputs": [],
   "source": [
    "brand=driver.find_elements_by_class_name(\"_2WkVRV\")"
   ]
  },
  {
   "cell_type": "code",
   "execution_count": 66,
   "id": "c838bda8",
   "metadata": {},
   "outputs": [],
   "source": [
    "for i in brand:\n",
    "    name=i.text\n",
    "    Brand_Name.append(name)\n"
   ]
  },
  {
   "cell_type": "code",
   "execution_count": 67,
   "id": "50e65bce",
   "metadata": {},
   "outputs": [],
   "source": [
    "dis=driver.find_elements_by_xpath(\"//a[@class='IRpwTa']\")"
   ]
  },
  {
   "cell_type": "code",
   "execution_count": 68,
   "id": "42de8fb5",
   "metadata": {},
   "outputs": [],
   "source": [
    "for i in dis:\n",
    "    discription=i.text\n",
    "    Product_dis.append(discription)"
   ]
  },
  {
   "cell_type": "code",
   "execution_count": 69,
   "id": "201d44b4",
   "metadata": {},
   "outputs": [],
   "source": [
    "price=driver.find_elements_by_xpath(\"//a[@class='_3bPFwb']\")"
   ]
  },
  {
   "cell_type": "code",
   "execution_count": 70,
   "id": "db13420e",
   "metadata": {},
   "outputs": [],
   "source": [
    "for i in price:\n",
    "    pr=i.text\n",
    "    Price.append(pr)"
   ]
  },
  {
   "cell_type": "code",
   "execution_count": 71,
   "id": "87abe398",
   "metadata": {},
   "outputs": [],
   "source": [
    "search_button=driver.find_element_by_class_name(\"_1LKTO3\")\n",
    "search_button.click()"
   ]
  },
  {
   "cell_type": "code",
   "execution_count": 72,
   "id": "4ec80bd3",
   "metadata": {},
   "outputs": [],
   "source": [
    "sunglass=driver.find_elements_by_class_name(\"_2WkVRV\")"
   ]
  },
  {
   "cell_type": "code",
   "execution_count": 73,
   "id": "7d31b034",
   "metadata": {},
   "outputs": [],
   "source": [
    "for i in sunglass:\n",
    "    name=i.text\n",
    "    Brand_Name.append(name)"
   ]
  },
  {
   "cell_type": "code",
   "execution_count": 74,
   "id": "e3f6cec0",
   "metadata": {},
   "outputs": [],
   "source": [
    "pro=driver.find_elements_by_xpath(\"//a[@class='IRpwTa']\")"
   ]
  },
  {
   "cell_type": "code",
   "execution_count": 75,
   "id": "f6522896",
   "metadata": {},
   "outputs": [],
   "source": [
    "for i in pro:\n",
    "    pro_dis=i.text\n",
    "    Product_dis.append(pro_dis)"
   ]
  },
  {
   "cell_type": "code",
   "execution_count": 76,
   "id": "5280bee8",
   "metadata": {},
   "outputs": [],
   "source": [
    "p=driver.find_elements_by_xpath(\"//a[@class='_3bPFwb']\")\n",
    "\n",
    "for i in p:\n",
    "    pri=i.text\n",
    "    Price.append(pri)"
   ]
  },
  {
   "cell_type": "code",
   "execution_count": 78,
   "id": "ceecbf97",
   "metadata": {},
   "outputs": [],
   "source": [
    "search_button=driver.find_element_by_xpath(\"/html/body/div[1]/div/div[3]/div[1]/div[2]/div[12]/div/div/nav/a[12]/span\")\n",
    "search_button.click()"
   ]
  },
  {
   "cell_type": "code",
   "execution_count": 79,
   "id": "419f7f0e",
   "metadata": {},
   "outputs": [],
   "source": [
    "Bran=driver.find_elements_by_class_name(\"_2WkVRV\")\n",
    "\n",
    "for i in Bran:\n",
    "    brand=i.text\n",
    "    Brand_Name.append(brand)"
   ]
  },
  {
   "cell_type": "code",
   "execution_count": 80,
   "id": "43ab8d94",
   "metadata": {},
   "outputs": [],
   "source": [
    "di=driver.find_elements_by_xpath(\"//a[@class='IRpwTa']\")\n",
    "\n",
    "for i in di:\n",
    "    dis=i.text\n",
    "    Product_dis.append(dis)"
   ]
  },
  {
   "cell_type": "code",
   "execution_count": 81,
   "id": "c1cb94be",
   "metadata": {},
   "outputs": [],
   "source": [
    "r=driver.find_elements_by_xpath(\"//a[@class='_3bPFwb']\")\n",
    "\n",
    "for i in r:\n",
    "    rat=i.text\n",
    "    Price.append(rat)"
   ]
  },
  {
   "cell_type": "code",
   "execution_count": 82,
   "id": "bd7a3f1d",
   "metadata": {},
   "outputs": [
    {
     "name": "stdout",
     "output_type": "stream",
     "text": [
      "120 120 120\n"
     ]
    }
   ],
   "source": [
    "print(len(Brand_Name),len(Product_dis),len(Price))"
   ]
  },
  {
   "cell_type": "code",
   "execution_count": 83,
   "id": "139e9e75",
   "metadata": {},
   "outputs": [
    {
     "data": {
      "text/plain": [
       "['Mi',\n",
       " 'Mi',\n",
       " 'Fastrack',\n",
       " 'SRPM',\n",
       " 'Elligator',\n",
       " 'Fastrack',\n",
       " 'PIRASO',\n",
       " 'PIRASO',\n",
       " 'PIRASO',\n",
       " 'PIRASO',\n",
       " 'Fastrack',\n",
       " 'Mi',\n",
       " 'SUNBEE',\n",
       " 'Fastrack',\n",
       " 'ROZZETTA CRAFT',\n",
       " 'New Specs',\n",
       " 'ROZZETTA CRAFT',\n",
       " 'VINCENT CHASE',\n",
       " 'PIRASO',\n",
       " 'United Colors of Benetton',\n",
       " 'SHAAH COLLECTIONS',\n",
       " 'New Specs',\n",
       " 'Lee Topper',\n",
       " 'Elligator',\n",
       " 'SUNBEE',\n",
       " 'ROZZETTA CRAFT',\n",
       " 'SRPM',\n",
       " 'Fastrack',\n",
       " 'GANSTA',\n",
       " 'ROYAL SON',\n",
       " 'Lee Topper',\n",
       " 'PIRASO',\n",
       " 'GANSTA',\n",
       " 'WROGN',\n",
       " 'AISLIN',\n",
       " 'PIRASO',\n",
       " 'kingsunglasses',\n",
       " 'SHAAH COLLECTIONS',\n",
       " 'PIRASO',\n",
       " 'Fastrack',\n",
       " 'SRPM',\n",
       " 'VINCENT CHASE',\n",
       " 'Fastrack',\n",
       " 'Arnette',\n",
       " 'kingsunglasses',\n",
       " 'Fastrack',\n",
       " 'Fastrack',\n",
       " 'ROZZETTA CRAFT',\n",
       " 'ROZZETTA CRAFT',\n",
       " 'Ray-Ban',\n",
       " 'PHENOMENAL',\n",
       " 'ROZZETTA CRAFT',\n",
       " 'PIRASO',\n",
       " 'SUNBEE',\n",
       " 'SRPM',\n",
       " 'Arnette',\n",
       " 'VINCENT CHASE',\n",
       " 'ROZZETTA CRAFT',\n",
       " 'kingsunglasses',\n",
       " 'GANSTA',\n",
       " 'AISLIN',\n",
       " 'NuVew',\n",
       " 'PIRASO',\n",
       " 'ROYAL SON',\n",
       " 'Urbanic',\n",
       " 'VINCENT CHASE',\n",
       " 'ROZZETTA CRAFT',\n",
       " 'GANSTA',\n",
       " 'HRX by Hrithik Roshan',\n",
       " 'kingsunglasses',\n",
       " 'Fastrack',\n",
       " 'AISLIN',\n",
       " 'Fastrack',\n",
       " 'Fastrack',\n",
       " 'New Specs',\n",
       " 'Arnette',\n",
       " 'ROZZETTA CRAFT',\n",
       " 'New Specs',\n",
       " 'AISLIN',\n",
       " 'Arnette',\n",
       " 'ROZZETTA CRAFT',\n",
       " 'SUNBEE',\n",
       " 'SRPM',\n",
       " 'ROZZETTA CRAFT',\n",
       " 'PHENOMENAL',\n",
       " 'PIRASO',\n",
       " 'kingsunglasses',\n",
       " 'ROYAL SON',\n",
       " 'VINCENT CHASE',\n",
       " 'New Specs',\n",
       " 'AISLIN',\n",
       " 'VINCENT CHASE',\n",
       " 'NuVew',\n",
       " 'PIRASO',\n",
       " 'ROZZETTA CRAFT',\n",
       " 'ROYAL SON',\n",
       " 'ROYAL SON',\n",
       " 'Urbanic',\n",
       " 'VINCENT CHASE',\n",
       " 'ROYAL SON']"
      ]
     },
     "execution_count": 83,
     "metadata": {},
     "output_type": "execute_result"
    }
   ],
   "source": [
    "Brand_Name[0:100]"
   ]
  },
  {
   "cell_type": "code",
   "execution_count": 84,
   "id": "a7867233",
   "metadata": {},
   "outputs": [
    {
     "data": {
      "text/plain": [
       "['Polarized Aviator Sunglasses (Free Size)',\n",
       " 'Polarized Aviator Sunglasses (Free Size)',\n",
       " 'UV Protection Rectangular Sunglasses (Free Size)',\n",
       " 'UV Protection Wayfarer Sunglasses (50)',\n",
       " 'UV Protection Round Sunglasses (54)',\n",
       " 'UV Protection Wayfarer Sunglasses (Free Size)',\n",
       " 'UV Protection Aviator Sunglasses (54)',\n",
       " 'UV Protection Aviator Sunglasses (54)',\n",
       " 'UV Protection Rectangular Sunglasses (52)',\n",
       " 'UV Protection Aviator Sunglasses (58)',\n",
       " 'Gradient, UV Protection Wayfarer Sunglasses (Free Size)',\n",
       " 'Polarized Wayfarer Sunglasses (Free Size)',\n",
       " 'UV Protection, Polarized Wayfarer Sunglasses (Free Size...',\n",
       " 'UV Protection Aviator Sunglasses (58)',\n",
       " 'Polarized, Riding Glasses Sports, Wrap-around Sunglasse...',\n",
       " 'UV Protection Rectangular Sunglasses (Free Size)',\n",
       " 'UV Protection, Gradient Retro Square Sunglasses (Free S...',\n",
       " 'by Lenskart Polarized, UV Protection Cat-eye Sunglasses...',\n",
       " 'UV Protection Aviator Sunglasses (54)',\n",
       " 'Gradient Cat-eye Sunglasses (57)',\n",
       " 'UV Protection, Polarized, Mirrored Rectangular Sunglass...',\n",
       " 'Mirrored, UV Protection, Riding Glasses, Others Round S...',\n",
       " 'Riding Glasses Wrap-around Sunglasses (Free Size)',\n",
       " 'UV Protection Round Sunglasses (53)',\n",
       " 'UV Protection, Polarized, Mirrored Retro Square Sunglas...',\n",
       " 'UV Protection Retro Square Sunglasses (Free Size)',\n",
       " 'Others Wayfarer, Retro Square Sunglasses (50)',\n",
       " 'UV Protection Aviator Sunglasses (Free Size)',\n",
       " 'Gradient, UV Protection Retro Square, Wayfarer Sunglass...',\n",
       " 'Polarized Rectangular Sunglasses (60)',\n",
       " 'UV Protection Cat-eye Sunglasses (Free Size)',\n",
       " 'UV Protection Aviator Sunglasses (Free Size)',\n",
       " 'UV Protection Aviator Sunglasses (57)',\n",
       " 'Polarized Aviator Sunglasses (44)',\n",
       " 'UV Protection, Gradient Retro Square Sunglasses (58)',\n",
       " 'UV Protection Aviator Sunglasses (54)',\n",
       " 'UV Protection, Riding Glasses, Mirrored Wayfarer Sungla...',\n",
       " 'UV Protection Round Sunglasses (Free Size)',\n",
       " 'UV Protection Aviator Sunglasses (58)',\n",
       " 'Mirrored, UV Protection Wayfarer Sunglasses (Free Size)',\n",
       " 'Night Vision, UV Protection Round Sunglasses (54)',\n",
       " 'by Lenskart Polarized, UV Protection Round Sunglasses (...',\n",
       " 'Gradient, UV Protection Wayfarer Sunglasses (Free Size)',\n",
       " 'Others Oval Sunglasses (53)',\n",
       " 'UV Protection, Mirrored Aviator Sunglasses (Free Size)',\n",
       " 'UV Protection Aviator Sunglasses (57)',\n",
       " 'UV Protection Aviator Sunglasses (58)',\n",
       " 'UV Protection, Gradient Retro Square Sunglasses (Free S...',\n",
       " 'UV Protection, Gradient Rectangular Sunglasses (Free Si...',\n",
       " 'Mirrored Aviator Sunglasses (63)',\n",
       " 'UV Protection Retro Square Sunglasses (Free Size)',\n",
       " 'UV Protection Spectacle Sunglasses (Free Size)',\n",
       " 'UV Protection Butterfly Sunglasses (60)',\n",
       " 'UV Protection, Polarized, Mirrored Wayfarer Sunglasses ...',\n",
       " 'UV Protection Wayfarer Sunglasses (53)',\n",
       " 'Others Retro Square Sunglasses (55)',\n",
       " 'by Lenskart UV Protection Aviator Sunglasses (Free Size...',\n",
       " 'UV Protection, Gradient Round Sunglasses (Free Size)',\n",
       " 'UV Protection Rectangular Sunglasses (55)',\n",
       " 'UV Protection Aviator Sunglasses (57)',\n",
       " 'UV Protection, Gradient Oval Sunglasses (58)',\n",
       " 'UV Protection Sports Sunglasses (62)',\n",
       " 'UV Protection Over-sized Sunglasses (60)',\n",
       " 'UV Protection, Polarized Wayfarer Sunglasses (54)',\n",
       " 'Others Retro Square Sunglasses (Free Size)',\n",
       " 'by Lenskart UV Protection Wayfarer Sunglasses (51)',\n",
       " 'UV Protection Retro Square Sunglasses (Free Size)',\n",
       " 'UV Protection, Night Vision, Riding Glasses Aviator Sun...',\n",
       " 'UV Protection Aviator Sunglasses (Free Size)',\n",
       " 'UV Protection Round Sunglasses (Free Size)',\n",
       " 'UV Protection Wayfarer Sunglasses (Free Size)',\n",
       " 'UV Protection, Gradient Butterfly, Round Sunglasses (53...',\n",
       " 'UV Protection Shield Sunglasses (Free Size)',\n",
       " 'UV Protection Wayfarer Sunglasses (54)',\n",
       " 'UV Protection Aviator Sunglasses (Free Size)',\n",
       " 'Mirrored Retro Square Sunglasses (56)',\n",
       " 'UV Protection, Gradient Rectangular Sunglasses (Free Si...',\n",
       " 'UV Protection Round Sunglasses (Free Size)',\n",
       " 'UV Protection, Gradient Butterfly, Over-sized Sunglasse...',\n",
       " 'Others Rectangular Sunglasses (55)',\n",
       " 'UV Protection, Gradient Round Sunglasses (Free Size)',\n",
       " 'UV Protection, Polarized, Mirrored Wayfarer Sunglasses ...',\n",
       " 'UV Protection Wayfarer Sunglasses (53)',\n",
       " 'UV Protection Aviator Sunglasses (62)',\n",
       " 'UV Protection Retro Square Sunglasses (Free Size)',\n",
       " 'UV Protection Butterfly Sunglasses (60)',\n",
       " 'Mirrored, UV Protection Wayfarer Sunglasses (Free Size)',\n",
       " 'UV Protection, Gradient Over-sized Sunglasses (56)',\n",
       " 'by Lenskart Polarized, UV Protection Aviator Sunglasses...',\n",
       " 'UV Protection Rectangular Sunglasses (Free Size)',\n",
       " 'UV Protection, Gradient Oval Sunglasses (58)',\n",
       " 'by Lenskart Polarized, UV Protection Round Sunglasses (...',\n",
       " 'UV Protection Sports Sunglasses (62)',\n",
       " 'UV Protection Over-sized Sunglasses (60)',\n",
       " 'UV Protection Retro Square Sunglasses (Free Size)',\n",
       " 'UV Protection, Gradient Over-sized Sunglasses (62)',\n",
       " 'Mirrored Aviator Sunglasses (Free Size)',\n",
       " 'Others Retro Square Sunglasses (Free Size)',\n",
       " 'by Lenskart UV Protection Wayfarer Sunglasses (51)',\n",
       " 'Polarized, UV Protection Sports Sunglasses (68)']"
      ]
     },
     "execution_count": 84,
     "metadata": {},
     "output_type": "execute_result"
    }
   ],
   "source": [
    "Product_dis[0:100]"
   ]
  },
  {
   "cell_type": "code",
   "execution_count": 85,
   "id": "aca39a70",
   "metadata": {},
   "outputs": [
    {
     "data": {
      "text/plain": [
       "['₹649₹1,19945% off',\n",
       " '₹649₹1,19945% off',\n",
       " '₹639₹79920% off',\n",
       " '₹199₹1,29984% off\\nFree delivery',\n",
       " '₹280₹2,49588% off',\n",
       " '₹699₹99930% off\\nFree delivery',\n",
       " '₹199₹1,59987% off\\nFree delivery',\n",
       " '₹199₹1,59987% off\\nFree delivery',\n",
       " '₹272₹2,59989% off\\nFree delivery',\n",
       " '₹319₹2,59987% off\\nFree delivery',\n",
       " '₹599₹79925% off\\nFree delivery',\n",
       " '₹599₹99940% off\\nFree delivery',\n",
       " '₹283₹1,29978% off\\nFree delivery',\n",
       " '₹899₹1,29930% off\\nFree delivery',\n",
       " '₹449₹1,99977% off\\nFree delivery',\n",
       " '₹264₹2,59989% off\\nFree delivery',\n",
       " '₹314₹1,99984% off\\nFree delivery',\n",
       " '₹719₹1,99964% off\\nFree delivery',\n",
       " '₹219₹1,59986% off\\nFree delivery',\n",
       " '₹669₹3,70081% off\\nFree delivery',\n",
       " '₹195₹1,69988% off\\nFree delivery',\n",
       " '₹299₹1,59981% off\\nFree delivery',\n",
       " '₹299₹2,49988% off\\nFree delivery',\n",
       " '₹195₹99880% off\\nFree delivery',\n",
       " '₹259₹1,29980% off\\nFree delivery',\n",
       " '₹449₹2,22579% off\\nFree delivery',\n",
       " '₹195₹99980% off\\nFree delivery',\n",
       " '₹629₹79921% off\\nFree delivery',\n",
       " '₹207₹1,79988% off\\nFree delivery',\n",
       " '₹531₹1,99973% off\\nFree delivery',\n",
       " '₹259₹1,29980% off\\nFree delivery',\n",
       " '₹307₹1,59980% off\\nFree delivery',\n",
       " '₹279₹1,99986% off\\nFree delivery',\n",
       " '₹449₹3,44986% off',\n",
       " '₹415₹1,52572% off\\nFree delivery',\n",
       " '₹198₹1,59987% off\\nFree delivery',\n",
       " '₹213₹1,19982% off\\nFree delivery',\n",
       " '₹279₹1,29978% off\\nFree delivery',\n",
       " '₹307₹2,59988% off\\nFree delivery',\n",
       " '₹849₹99915% off\\nFree delivery',\n",
       " '₹207₹99979% off',\n",
       " '₹719₹1,99964% off',\n",
       " '₹699₹89922% off',\n",
       " '₹2,359₹6,39063% off\\nFree delivery',\n",
       " '₹269₹1,89985% off',\n",
       " '₹635₹79920% off\\nFree delivery',\n",
       " '₹1,025₹1,29921% off\\nFree delivery',\n",
       " '₹314₹1,99984% off\\nFree delivery',\n",
       " '₹359₹1,99982% off\\nFree delivery',\n",
       " '₹3,639₹5,49033% off\\nFree delivery',\n",
       " '₹341₹1,99982% off\\nFree delivery',\n",
       " '₹359₹1,99982% off\\nFree delivery',\n",
       " '₹359₹2,59986% off\\nFree delivery',\n",
       " '₹283₹1,29978% off\\nFree delivery',\n",
       " '₹221₹99877% off\\nFree delivery',\n",
       " '₹2,919₹7,79062% off\\nFree delivery',\n",
       " '₹720₹1,99963% off\\nFree delivery',\n",
       " '₹359₹1,99982% off\\nFree delivery',\n",
       " '₹189₹1,29985% off\\nFree delivery',\n",
       " '₹279₹1,99986% off\\nFree delivery',\n",
       " '₹415₹1,52572% off\\nFree delivery',\n",
       " '₹307₹1,24575% off\\nFree delivery',\n",
       " '₹390₹2,59984% off\\nFree delivery',\n",
       " '₹639₹1,99968% off\\nFree delivery',\n",
       " '₹439₹1,09059% off',\n",
       " '₹711₹1,99964% off\\nFree delivery',\n",
       " '₹449₹2,25280% off\\nFree delivery',\n",
       " '₹279₹1,99986% off\\nFree delivery',\n",
       " '₹999₹2,59961% off\\nFree delivery',\n",
       " '₹329₹1,59979% off\\nFree delivery',\n",
       " '₹759₹89915% off\\nFree delivery',\n",
       " '₹378₹1,52575% off\\nFree delivery',\n",
       " '₹759₹89915% off\\nFree delivery',\n",
       " '₹629₹89930% off\\nFree delivery',\n",
       " '₹214₹1,59986% off\\nFree delivery',\n",
       " '₹1,839₹5,09063% off\\nFree delivery',\n",
       " '₹404₹1,99979% off\\nFree delivery',\n",
       " '₹274₹1,29978% off\\nFree delivery',\n",
       " '₹504₹2,15076% off\\nFree delivery',\n",
       " '₹3,159₹8,39062% off\\nFree delivery',\n",
       " '₹359₹1,99982% off',\n",
       " '₹283₹1,29978% off',\n",
       " '₹221₹99877% off',\n",
       " '₹519₹2,55579% off\\nFree delivery',\n",
       " '₹341₹1,99982% off',\n",
       " '₹359₹2,59986% off\\nFree delivery',\n",
       " '₹269₹1,49982% off',\n",
       " '₹531₹1,99973% off\\nFree delivery',\n",
       " '₹683₹1,99965% off\\nFree delivery',\n",
       " '₹189₹1,59988% off\\nFree delivery',\n",
       " '₹415₹1,52572% off\\nFree delivery',\n",
       " '₹719₹1,99964% off\\nFree delivery',\n",
       " '₹307₹1,24575% off\\nFree delivery',\n",
       " '₹390₹2,59984% off\\nFree delivery',\n",
       " '₹449₹2,25280% off\\nFree delivery',\n",
       " '₹559₹1,99972% off\\nFree delivery',\n",
       " '₹359₹1,49976% off\\nFree delivery',\n",
       " '₹439₹1,09059% off',\n",
       " '₹711₹1,99964% off\\nFree delivery',\n",
       " '₹1,039₹2,49958% off\\nFree delivery']"
      ]
     },
     "execution_count": 85,
     "metadata": {},
     "output_type": "execute_result"
    }
   ],
   "source": [
    "Price[0:100]"
   ]
  },
  {
   "cell_type": "code",
   "execution_count": 86,
   "id": "e7b13e25",
   "metadata": {},
   "outputs": [],
   "source": [
    "driver.close()"
   ]
  },
  {
   "cell_type": "markdown",
   "id": "87671298",
   "metadata": {},
   "source": [
    "# Q5"
   ]
  },
  {
   "cell_type": "code",
   "execution_count": 87,
   "id": "32e4f527",
   "metadata": {},
   "outputs": [],
   "source": [
    "driver=webdriver.Chrome(\"chromedriver.exe\")"
   ]
  },
  {
   "cell_type": "code",
   "execution_count": 88,
   "id": "50ac9d98",
   "metadata": {},
   "outputs": [],
   "source": [
    "driver.get(\"https://www.flipkart.com/\")"
   ]
  },
  {
   "cell_type": "code",
   "execution_count": 90,
   "id": "ecb743a8",
   "metadata": {},
   "outputs": [],
   "source": [
    "Rating=[]\n",
    "Review_summary=[]\n",
    "Fullreview=[]"
   ]
  },
  {
   "cell_type": "code",
   "execution_count": 91,
   "id": "88f97d05",
   "metadata": {},
   "outputs": [],
   "source": [
    "rat=driver.find_elements_by_class_name(\"_3LWZlK\")\n",
    "\n",
    "for i in rat:\n",
    "    r=i.text\n",
    "    Rating.append(r)"
   ]
  },
  {
   "cell_type": "code",
   "execution_count": 111,
   "id": "3d5a96db",
   "metadata": {},
   "outputs": [
    {
     "data": {
      "text/plain": [
       "[]"
      ]
     },
     "execution_count": 111,
     "metadata": {},
     "output_type": "execute_result"
    }
   ],
   "source": [
    "f_r=driver.find_elements_by_xpath(\"/html/body/div[1]/div/div[3]/div[1]/div[2]/div[9]/div[6]/div/div[4]/div[1]/div/div/div[2]\")\n",
    "for i in f_r:\n",
    "    rev=i.text\n",
    "    Review_summary.append(rev)\n",
    "Review_summary"
   ]
  },
  {
   "cell_type": "code",
   "execution_count": 93,
   "id": "32257d0c",
   "metadata": {},
   "outputs": [],
   "source": [
    "search_button=driver.find_element_by_xpath(\"/html/body/div[1]/div/div[3]/div[1]/div[2]/div[26]/div/div/nav/a[5]\")\n",
    "search_button.click()"
   ]
  },
  {
   "cell_type": "code",
   "execution_count": 94,
   "id": "51fb5d0f",
   "metadata": {},
   "outputs": [],
   "source": [
    "rati=driver.find_elements_by_class_name(\"_3LWZlK\")\n",
    "\n",
    "for i in rati:\n",
    "    ra=i.text\n",
    "    Rating.append(ra)"
   ]
  },
  {
   "cell_type": "code",
   "execution_count": 95,
   "id": "ce45ef32",
   "metadata": {},
   "outputs": [],
   "source": [
    "review=driver.find_elements_by_class_name(\"_13vcmD\")\n",
    "\n",
    "for i in review:\n",
    "    re=i.text\n",
    "    Fullreview.append(re)"
   ]
  },
  {
   "cell_type": "code",
   "execution_count": 96,
   "id": "c8a9fab3",
   "metadata": {},
   "outputs": [],
   "source": [
    "search_button=driver.find_element_by_xpath(\"/html/body/div[1]/div/div[3]/div[1]/div[2]/div[26]/div/div/nav/a[6]\")\n",
    "search_button.click()"
   ]
  },
  {
   "cell_type": "code",
   "execution_count": 99,
   "id": "49b3a604",
   "metadata": {},
   "outputs": [],
   "source": [
    "rat=driver.find_elements_by_class_name(\"_3LWZlK\")\n",
    "\n",
    "for i in rat:\n",
    "    r=i.text\n",
    "    Rating.append(r)"
   ]
  },
  {
   "cell_type": "code",
   "execution_count": 100,
   "id": "bc4a75ed",
   "metadata": {},
   "outputs": [],
   "source": [
    "rev=driver.find_elements_by_xpath(\"/html/body/div[1]/div/div[3]/div[1]/div[2]/div[2]/div/div/div/a/div[2]/div[1]/div[2]/span[2]\")\n",
    "\n",
    "for i in rev:\n",
    "    revi=i.text\n",
    "    Fullreview.append(revi)"
   ]
  },
  {
   "cell_type": "code",
   "execution_count": 101,
   "id": "9717cba1",
   "metadata": {},
   "outputs": [],
   "source": [
    "search_button=driver.find_element_by_xpath(\"/html/body/div[1]/div/div[3]/div[1]/div[2]/div[26]/div/div/nav/a[6]\")\n",
    "search_button.click()"
   ]
  },
  {
   "cell_type": "code",
   "execution_count": 102,
   "id": "d70b9e29",
   "metadata": {},
   "outputs": [],
   "source": [
    "rati=driver.find_elements_by_class_name(\"_3LWZlK\")\n",
    "\n",
    "for i in rati:\n",
    "    ratin=i.text\n",
    "    Rating.append(ratin)"
   ]
  },
  {
   "cell_type": "code",
   "execution_count": 103,
   "id": "44103ead",
   "metadata": {},
   "outputs": [],
   "source": [
    "revie=driver.find_elements_by_xpath(\"/html/body/div[1]/div/div[3]/div[1]/div[2]/div[2]/div/div/div/a/div[2]/div[1]/div[2]/span[2]\")\n",
    "for i in revie:\n",
    "    rv=i.text\n",
    "    Fullreview.append(rv)"
   ]
  },
  {
   "cell_type": "code",
   "execution_count": 113,
   "id": "6efb062b",
   "metadata": {},
   "outputs": [],
   "source": [
    "#Rating"
   ]
  },
  {
   "cell_type": "code",
   "execution_count": 112,
   "id": "08fe564d",
   "metadata": {},
   "outputs": [],
   "source": [
    "#Fullreview"
   ]
  },
  {
   "cell_type": "code",
   "execution_count": 114,
   "id": "d2ab57f0",
   "metadata": {},
   "outputs": [],
   "source": [
    "driver.close()"
   ]
  },
  {
   "cell_type": "markdown",
   "id": "6320f1ce",
   "metadata": {},
   "source": [
    "# Q.6"
   ]
  },
  {
   "cell_type": "code",
   "execution_count": 115,
   "id": "4a9dbd39",
   "metadata": {},
   "outputs": [],
   "source": [
    "driver=webdriver.Chrome(\"Chromedriver.exe\")"
   ]
  },
  {
   "cell_type": "code",
   "execution_count": 116,
   "id": "10c26c31",
   "metadata": {},
   "outputs": [],
   "source": [
    "driver.get(\"https://www.flipkart.com/\")"
   ]
  },
  {
   "cell_type": "code",
   "execution_count": 119,
   "id": "19d24973",
   "metadata": {},
   "outputs": [],
   "source": [
    "Brand=[]\n",
    "Product_description=[]\n",
    "Price=[]"
   ]
  },
  {
   "cell_type": "code",
   "execution_count": 120,
   "id": "7bba95b0",
   "metadata": {},
   "outputs": [],
   "source": [
    "name=driver.find_elements_by_class_name(\"_2WkVRV\")\n",
    "\n",
    "for i in name:\n",
    "    br=i.text\n",
    "    Brand.append(br)"
   ]
  },
  {
   "cell_type": "code",
   "execution_count": 121,
   "id": "16d1679b",
   "metadata": {},
   "outputs": [],
   "source": [
    "pd=driver.find_elements_by_xpath(\"//a[@class='IRpwTa']\")\n",
    "\n",
    "for i in pd:\n",
    "    pro=i.text\n",
    "    Product_description.append(pro)"
   ]
  },
  {
   "cell_type": "code",
   "execution_count": 122,
   "id": "1f6e87d3",
   "metadata": {},
   "outputs": [],
   "source": [
    "pr=driver.find_elements_by_xpath(\"//a[@class='_3bPFwb']\")\n",
    "\n",
    "for i in pr:\n",
    "    pri=i.text\n",
    "    Price.append(pri)"
   ]
  },
  {
   "cell_type": "code",
   "execution_count": 123,
   "id": "ce8fa846",
   "metadata": {},
   "outputs": [],
   "source": [
    "search_button=driver.find_element_by_xpath(\"/html/body/div[1]/div/div[3]/div[1]/div[2]/div[12]/div/div/nav/a[11]\")\n",
    "\n",
    "search_button.click()"
   ]
  },
  {
   "cell_type": "code",
   "execution_count": 125,
   "id": "9f13f855",
   "metadata": {},
   "outputs": [],
   "source": [
    "bran=driver.find_elements_by_class_name(\"_2WkVRV\")\n",
    "\n",
    "for i in bran:\n",
    "    bra=i.text\n",
    "    Brand.append(bra)"
   ]
  },
  {
   "cell_type": "code",
   "execution_count": 126,
   "id": "c6254c8a",
   "metadata": {},
   "outputs": [],
   "source": [
    "pdc=driver.find_elements_by_xpath(\"//a[@class='IRpwTa']\")\n",
    "\n",
    "for i in pdc:\n",
    "    pr=i.text\n",
    "    Product_description.append(pr)"
   ]
  },
  {
   "cell_type": "code",
   "execution_count": 127,
   "id": "31459d55",
   "metadata": {},
   "outputs": [],
   "source": [
    "pri1=driver.find_elements_by_xpath(\"//a[@class='_3bPFwb']\")\n",
    "\n",
    "for i in pri1:\n",
    "    pric=i.text\n",
    "    Price.append(pric)"
   ]
  },
  {
   "cell_type": "code",
   "execution_count": 128,
   "id": "1d251a6b",
   "metadata": {},
   "outputs": [],
   "source": [
    "search_button=driver.find_element_by_xpath(\"/html/body/div[1]/div/div[3]/div[1]/div[2]/div[12]/div/div/nav/a[12]\")\n",
    "search_button.click()"
   ]
  },
  {
   "cell_type": "code",
   "execution_count": 129,
   "id": "a7316ed8",
   "metadata": {},
   "outputs": [],
   "source": [
    "bran1=driver.find_elements_by_class_name(\"_2WkVRV\")\n",
    "\n",
    "for i in bran1:\n",
    "    br=i.text\n",
    "    Brand.append(br)"
   ]
  },
  {
   "cell_type": "code",
   "execution_count": 130,
   "id": "a73f492f",
   "metadata": {},
   "outputs": [],
   "source": [
    "pd1=driver.find_elements_by_xpath(\"//a[@class='IRpwTa']\")\n",
    "\n",
    "for i in pd1:\n",
    "    pdc=i.text\n",
    "    Product_description.append(pdc)"
   ]
  },
  {
   "cell_type": "code",
   "execution_count": 131,
   "id": "6492a5fe",
   "metadata": {},
   "outputs": [],
   "source": [
    "pri2=driver.find_elements_by_xpath(\"//a[@class='_3bPFwb']\")\n",
    "\n",
    "for i in pri2:\n",
    "    prc=i.text\n",
    "    Price.append(prc)"
   ]
  },
  {
   "cell_type": "code",
   "execution_count": 132,
   "id": "bfcf38a4",
   "metadata": {},
   "outputs": [
    {
     "data": {
      "text/plain": [
       "['NAUTICA',\n",
       " 'Scull Wings',\n",
       " 'BRUTON',\n",
       " 'Magnolia',\n",
       " 'BIRDE',\n",
       " 'BRUTON',\n",
       " 'Layasa',\n",
       " 'TR',\n",
       " 'Robbie jones',\n",
       " 'URBANBOX',\n",
       " 'BRUTON',\n",
       " 'luxury fashion',\n",
       " 'Labbin',\n",
       " 'Robbie jones',\n",
       " 'Kraasa',\n",
       " 'Rzisbo',\n",
       " 'aadi',\n",
       " 'Robbie jones',\n",
       " 'Dicy',\n",
       " 'luxury fashion',\n",
       " 'Robbie jones',\n",
       " 'D-SNEAKERZ',\n",
       " 'ASTEROID',\n",
       " 'HRX by Hrithik Roshan',\n",
       " 'CAMPUS',\n",
       " 'BIRDE',\n",
       " 'KWIK FIT',\n",
       " 'HIGHLANDER',\n",
       " 'Kraasa',\n",
       " 'BIRDE',\n",
       " 'PUMA',\n",
       " 'HOTSTYLE',\n",
       " 'AKIMBO',\n",
       " 'SCATCHITE',\n",
       " 'bluemaker',\n",
       " 'Chevit',\n",
       " 'Robbie jones',\n",
       " 'U.S. POLO ASSN.',\n",
       " 'aadi',\n",
       " 'Echor',\n",
       " 'Robbie jones',\n",
       " 'BRUTON',\n",
       " 'CLYMB',\n",
       " 'NAUTICA',\n",
       " 'corsac',\n",
       " 'Kzaara',\n",
       " 'PUMA',\n",
       " 'Scull Wings',\n",
       " 'HOTSTYLE',\n",
       " 'U.S. POLO ASSN.',\n",
       " 'Roadster',\n",
       " 'TR',\n",
       " 'Kraasa',\n",
       " 'BRUTON',\n",
       " 'BRUTON',\n",
       " 'luxury fashion',\n",
       " 'Airland',\n",
       " 'Bavis',\n",
       " 'Layasa',\n",
       " 'Rzisbo',\n",
       " 'ZF Klub',\n",
       " 'Echor',\n",
       " 'Echor',\n",
       " 'luxury fashion',\n",
       " 'ADIDAS',\n",
       " 'PROVOGUE',\n",
       " 'Hida',\n",
       " 'HRX by Hrithik Roshan',\n",
       " 'ASTEROID',\n",
       " 'BRUTON',\n",
       " 'RapidBox',\n",
       " 'HOTSTYLE',\n",
       " 'Robbie jones',\n",
       " 'KNIGHT WALKERS',\n",
       " 'revord',\n",
       " 'Echor',\n",
       " 'ONECENTRE',\n",
       " 'WOODLAND',\n",
       " 'PUMA',\n",
       " 'Chevit',\n",
       " 'LE GREEM',\n",
       " 'U.S. POLO ASSN.',\n",
       " 'Chevit',\n",
       " 'NAUTICA',\n",
       " 'U.S. POLO ASSN.',\n",
       " 'WHITE WALKERS',\n",
       " 'luxury fashion',\n",
       " 'Scull Wings',\n",
       " 'asics',\n",
       " 'BRUTON',\n",
       " 'Creer',\n",
       " 'TR',\n",
       " 'AMICO',\n",
       " 'PUMA',\n",
       " 'Wildcraft',\n",
       " 'luxury fashion',\n",
       " 'Shoes Bank',\n",
       " 'Numenzo',\n",
       " 'Bacan',\n",
       " 'luxury fashion']"
      ]
     },
     "execution_count": 132,
     "metadata": {},
     "output_type": "execute_result"
    }
   ],
   "source": [
    "Brand[0:100]"
   ]
  },
  {
   "cell_type": "code",
   "execution_count": 133,
   "id": "eceb7351",
   "metadata": {},
   "outputs": [
    {
     "data": {
      "text/plain": [
       "['Sneakers For Men',\n",
       " 'Lightweight Pack Of 1 Trendy Sneakers Sneakers For Men',\n",
       " 'Sneakers For Men',\n",
       " 'Stylish Comfortable Lightweight, Breathable Walking Sho...',\n",
       " 'Modern Trendy Sneakers Shoes Sneakers For Men',\n",
       " 'Sneakers For Men',\n",
       " 'Sneakers For Men',\n",
       " 'Casual Sneakers Green Shoes For Men And Boys Sneakers F...',\n",
       " 'Modern Trendy Sneakers Shoes Sneakers For Men',\n",
       " 'Luxury Fashionable casual shoes Sneakers For Men',\n",
       " 'Sneakers For Men',\n",
       " 'Casual Sneakers Canvas Shoes For Men Sneakers For Men',\n",
       " 'Shark-41 Sneakers For Men',\n",
       " 'Sneakers For Men',\n",
       " 'Sneakers For Men',\n",
       " 'Sneakers For Men',\n",
       " 'Sneakers For Men',\n",
       " 'Sneakers For Men',\n",
       " 'Sneakers For Men',\n",
       " \"Casual , Partywear Sneakers Shoes For Men's And Boys Wh...\",\n",
       " \"Original Luxury Branded Fashionable Men's Casual Walkin...\",\n",
       " 'Sneakers For Men',\n",
       " 'KING PRO Sneakers For Men',\n",
       " 'Stylish Comfortable Lightweight, Breathable Walking Sho...',\n",
       " 'Kwik FIT casual sneaker shoes and partywear shoes Casua...',\n",
       " 'Sneakers For Men',\n",
       " 'Series 7 Sneakers For Men',\n",
       " 'Stylish Comfortable Lightweight, Breathable Casual Walk...',\n",
       " 'Puma Rebound LayUp SL Sneakers For Men',\n",
       " 'CR-1 Sneakers For Men',\n",
       " 'Sneakers Sneakers For Men',\n",
       " 'casual for men Sneakers For Men',\n",
       " '494 Perfect Sports Shoes for Running Training Hikking &...',\n",
       " 'Sneakers For Men',\n",
       " 'PANAL Sneakers For Men',\n",
       " 'Sneakers For Men',\n",
       " \"Men's Casual sneaker shoes running shoes walking shoes ...\",\n",
       " 'Casual Sneakers White Shoes For Men Sneakers For Men',\n",
       " 'Lattest Sneakers Shoe Sneakers For Men',\n",
       " 'Sneakers For Men',\n",
       " 'Sneakers For Men',\n",
       " 'STYLISH MENS BLACK SNEAKER Sneakers For Men',\n",
       " 'Sneakers For Men',\n",
       " 'x KL Seattle Sneakers For Men',\n",
       " 'Sneakers For Men',\n",
       " 'Sneakers For Men',\n",
       " 'Sneakers For Men',\n",
       " 'Sneakers For Men',\n",
       " 'Casuals, Canvas, Partywear Sneakers For Men',\n",
       " 'Modern Trendy Sneakers Shoes Sneakers For Men',\n",
       " 'Sneaker Sneakers For Men',\n",
       " 'Luxury Fashionable casual shoes Sneakers For Men',\n",
       " '1259 smart black lace-ups sneakers for men Sneakers For...',\n",
       " 'Combo Pack of 2 Casual Shoes For Men Sneakers For Men',\n",
       " 'Sneakers For Men',\n",
       " 'Sneakers For Men',\n",
       " 'Sneakers For Men',\n",
       " \"Men's Sneakers Fashion Lightweight Running Shoes Tennis...\",\n",
       " \"Men's Sneakers Fashion Lightweight Running Shoes Tennis...\",\n",
       " 'Sneakers For Men',\n",
       " 'STREET ICON M Sneakers For Men',\n",
       " 'Sneakers For Men',\n",
       " 'Sneakers For Men',\n",
       " \"Original Luxury Branded Fashionable Men's Casual Walkin...\",\n",
       " 'Combo Pack Of 2 Latest Stylish Casual Shoes for Men Lac...',\n",
       " 'CR-1 Sneakers For Men',\n",
       " 'Casual Sneakers Shoes For Men And Boys Sneakers For Men',\n",
       " 'SS1100 Sneakers For Men',\n",
       " \"Men's Casual sneaker shoes running shoes walking shoes ...\",\n",
       " 'STR2 Sneakers For Men',\n",
       " 'Sneakers For Men',\n",
       " 'Blend Sneakers For Men',\n",
       " '494 Perfect Sports Shoes for Running Training Hikking &...',\n",
       " 'Comfortable & Ultra Light Weight Sneaker Sneakers For M...',\n",
       " 'CLARKIN Sneakers For Men',\n",
       " '516 Trendy Star Perfect Sneakers For Men',\n",
       " 'Sneakers For Men',\n",
       " 'CLARKIN 2.0 Sneakers For Men',\n",
       " 'Stylish & Trending Outdoor Walking Comfortable Sneakers...',\n",
       " 'Sneakers For Men',\n",
       " 'LYTECOURT Sneakers For Men',\n",
       " 'Modern & Trendy Collection Combo Pack of 02 Shoes for M...',\n",
       " 'Casual White Shoes Sneakers For Men',\n",
       " 'Sneakers For Men',\n",
       " 'Sneakers For Men',\n",
       " 'Blend Sneakers For Men',\n",
       " 'True Black Shoe Sneakers For Men',\n",
       " 'Luxury Fashionable casual shoes Sneakers For Men',\n",
       " \"White Sneaker For Men's/Boy's Sneakers For Men\",\n",
       " 'Sneakers For Men',\n",
       " 'Sneakers For Men',\n",
       " \"Levi's Men's Henry Sneakers Sneakers For Men\",\n",
       " 'Sneakers For Men',\n",
       " \"Men's Lancer Sneakers Sneakers For Men\",\n",
       " 'Sneakers For Men',\n",
       " 'Sneakers For Men',\n",
       " 'Comfortable & Ultra Light Weight Sneaker Sneakers For M...',\n",
       " 'STYLISH MENS BLACK TRENDY SNEAKER FOR MENS Sneakers For...',\n",
       " 'CR-1 Sneakers For Men',\n",
       " \"Men's Combo Pack of 02 Shoes for Men Casual Sneakers Ou...\"]"
      ]
     },
     "execution_count": 133,
     "metadata": {},
     "output_type": "execute_result"
    }
   ],
   "source": [
    "Product_description[0:100]"
   ]
  },
  {
   "cell_type": "code",
   "execution_count": 134,
   "id": "3db90e1b",
   "metadata": {},
   "outputs": [
    {
     "data": {
      "text/plain": [
       "['₹1,324₹5,29975% off',\n",
       " '₹449₹1,49970% off',\n",
       " '₹188₹59968% off',\n",
       " '₹374₹99962% off\\nFree delivery',\n",
       " '₹314₹99968% off',\n",
       " '₹299₹1,29976% off',\n",
       " '₹399₹99960% off',\n",
       " '₹359₹1,49976% off\\nFree delivery',\n",
       " '₹499₹99950% off\\nFree delivery',\n",
       " '₹198₹99980% off',\n",
       " '₹269₹1,29979% off\\nFree delivery',\n",
       " '₹448₹1,29965% off\\nFree delivery',\n",
       " '₹499₹99950% off\\nFree delivery',\n",
       " '₹499₹99950% off\\nFree delivery',\n",
       " '₹419₹99958% off\\nFree delivery',\n",
       " '₹438₹99956% off\\nFree delivery',\n",
       " '₹319₹99968% off\\nFree delivery',\n",
       " '₹499₹99950% off\\nFree delivery',\n",
       " '₹299₹59950% off\\nFree delivery',\n",
       " '₹450₹1,29965% off\\nFree delivery',\n",
       " '₹499₹99950% off\\nFree delivery',\n",
       " '₹299₹65954% off\\nFree delivery',\n",
       " '₹499₹1,99975% off\\nFree delivery',\n",
       " '₹2,099₹3,59941% off\\nFree delivery',\n",
       " '₹839₹1,09923% off\\nFree delivery',\n",
       " '₹356₹99964% off\\nFree delivery',\n",
       " '₹397₹1,99980% off\\nFree delivery',\n",
       " '₹796₹1,99060% off\\nFree delivery',\n",
       " '₹449₹99955% off\\nFree delivery',\n",
       " '₹299₹99970% off\\nFree delivery',\n",
       " '₹2,667₹4,99946% off\\nFree delivery',\n",
       " '₹258₹49948% off\\nFree delivery',\n",
       " '₹549₹99945% off\\nFree delivery',\n",
       " '₹419₹99958% off\\nFree delivery',\n",
       " '₹599₹99940% off\\nFree delivery',\n",
       " '₹299₹99970% off\\nFree delivery',\n",
       " '₹379₹99962% off\\nFree delivery',\n",
       " '₹1,745₹2,99941% off\\nFree delivery',\n",
       " '₹299₹99970% off\\nFree delivery',\n",
       " '₹598₹1,49960% off\\nFree delivery',\n",
       " '₹387₹99961% off',\n",
       " '₹269₹1,29979% off',\n",
       " '₹519₹1,49965% off',\n",
       " '₹1,324₹5,29975% off',\n",
       " '₹499₹1,49966% off',\n",
       " '₹254₹99974% off\\nFree delivery',\n",
       " '₹2,981₹4,49933% off\\nFree delivery',\n",
       " '₹449₹1,49970% off',\n",
       " '₹245₹99875% off\\nFree delivery',\n",
       " '₹1,952₹2,99934% off\\nFree delivery',\n",
       " '₹1,119₹3,19965% off\\nFree delivery',\n",
       " '₹359₹1,49976% off\\nFree delivery',\n",
       " '₹479₹99952% off\\nFree delivery',\n",
       " '₹281₹1,29978% off\\nFree delivery',\n",
       " '₹281₹1,29978% off\\nFree delivery',\n",
       " '₹448₹1,29965% off\\nFree delivery',\n",
       " '₹210₹49957% off\\nFree delivery',\n",
       " '₹392₹99860% off\\nFree delivery',\n",
       " '₹399₹99960% off\\nFree delivery',\n",
       " '₹438₹99956% off\\nFree delivery',\n",
       " '₹349₹99965% off\\nFree delivery',\n",
       " '₹539₹99946% off\\nFree delivery',\n",
       " '₹485₹99951% off\\nFree delivery',\n",
       " '₹450₹1,29965% off\\nFree delivery',\n",
       " '₹2,339₹3,59935% off\\nFree delivery',\n",
       " '₹579₹1,29955% off\\nFree delivery',\n",
       " '₹649₹99935% off\\nFree delivery',\n",
       " '₹2,099₹3,59941% off\\nFree delivery',\n",
       " '₹499₹99950% off\\nFree delivery',\n",
       " '₹499₹2,49980% off\\nFree delivery',\n",
       " '₹665₹99933% off',\n",
       " '₹258₹49948% off\\nFree delivery',\n",
       " '₹499₹99950% off\\nFree delivery',\n",
       " '₹699₹1,99965% off\\nFree delivery',\n",
       " '₹249₹49950% off\\nFree delivery',\n",
       " '₹598₹1,49960% off\\nFree delivery',\n",
       " '₹300₹62051% off\\nFree delivery',\n",
       " '₹1,746₹2,49530% off\\nFree delivery',\n",
       " '₹1,958₹2,99934% off\\nFree delivery',\n",
       " '₹299₹99970% off\\nFree delivery',\n",
       " '₹499₹99950% off',\n",
       " '₹1,745₹2,99941% off',\n",
       " '₹279₹79965% off',\n",
       " '₹1,324₹5,29975% off',\n",
       " '₹1,958₹2,99934% off',\n",
       " '₹599₹1,19850% off\\nFree delivery',\n",
       " '₹449₹1,99977% off',\n",
       " '₹449₹1,49970% off',\n",
       " '₹2,630₹4,49941% off\\nFree delivery',\n",
       " '₹549₹2,49978% off\\nFree delivery',\n",
       " '₹348₹1,49976% off\\nFree delivery',\n",
       " '₹359₹1,49976% off\\nFree delivery',\n",
       " '₹466₹99953% off\\nFree delivery',\n",
       " '₹1,958₹2,99934% off\\nFree delivery',\n",
       " '₹1,299₹2,59950% off\\nFree delivery',\n",
       " '₹448₹1,29965% off\\nFree delivery',\n",
       " '₹298₹99970% off\\nFree delivery',\n",
       " '₹509₹2,99983% off\\nFree delivery',\n",
       " '₹526₹99947% off\\nFree delivery',\n",
       " '₹450₹1,29965% off\\nFree delivery']"
      ]
     },
     "execution_count": 134,
     "metadata": {},
     "output_type": "execute_result"
    }
   ],
   "source": [
    "Price[0:100]"
   ]
  },
  {
   "cell_type": "code",
   "execution_count": 136,
   "id": "7f403dbd",
   "metadata": {},
   "outputs": [],
   "source": [
    "driver.close()"
   ]
  },
  {
   "cell_type": "markdown",
   "id": "c0bd081d",
   "metadata": {},
   "source": [
    "# Q.7"
   ]
  },
  {
   "cell_type": "code",
   "execution_count": 138,
   "id": "24c40c6c",
   "metadata": {},
   "outputs": [],
   "source": [
    "driver=webdriver.Chrome(\"chromedriver.exe\")"
   ]
  },
  {
   "cell_type": "code",
   "execution_count": 139,
   "id": "a0ab2fb2",
   "metadata": {},
   "outputs": [],
   "source": [
    "driver.get(\"http://www.myntra.com/shoes\")"
   ]
  },
  {
   "cell_type": "code",
   "execution_count": 140,
   "id": "f98f43cd",
   "metadata": {},
   "outputs": [],
   "source": [
    "Brand=[]\n",
    "Shoe_description=[]\n",
    "Price=[]"
   ]
  },
  {
   "cell_type": "code",
   "execution_count": 149,
   "id": "9c4a2baa",
   "metadata": {},
   "outputs": [],
   "source": [
    "filter=driver.find_element_by_xpath(\"/html/body/div[2]/div/div[1]/main/div[3]/div[1]/section/div/div[5]/ul/li[2]/label/div\")\n",
    "filter.click()"
   ]
  },
  {
   "cell_type": "code",
   "execution_count": 150,
   "id": "b0403a04",
   "metadata": {},
   "outputs": [],
   "source": [
    "filter_black=driver.find_element_by_xpath(\"/html/body/div[2]/div/div[1]/main/div[3]/div[1]/section/div/div[6]/ul/li[1]/label/div\")\n",
    "filter_black.click()"
   ]
  },
  {
   "cell_type": "code",
   "execution_count": 157,
   "id": "919208c3",
   "metadata": {},
   "outputs": [],
   "source": [
    "br_name=driver.find_elements_by_xpath(\"/html/body/div[2]/div/div[1]/main/div[3]/div[2]/div/div[2]/section/ul/li[1]/a/div[2]/h3\")\n",
    "\n",
    "for i in br_name:\n",
    "    name=i.text\n",
    "    Brand.append(name)"
   ]
  },
  {
   "cell_type": "code",
   "execution_count": 158,
   "id": "bb9d62f0",
   "metadata": {},
   "outputs": [
    {
     "name": "stdout",
     "output_type": "stream",
     "text": [
      "55\n"
     ]
    }
   ],
   "source": [
    "dis=driver.find_elements_by_xpath(\"\")"
   ]
  },
  {
   "cell_type": "code",
   "execution_count": null,
   "id": "d62946e7",
   "metadata": {},
   "outputs": [],
   "source": []
  }
 ],
 "metadata": {
  "kernelspec": {
   "display_name": "Python 3 (ipykernel)",
   "language": "python",
   "name": "python3"
  },
  "language_info": {
   "codemirror_mode": {
    "name": "ipython",
    "version": 3
   },
   "file_extension": ".py",
   "mimetype": "text/x-python",
   "name": "python",
   "nbconvert_exporter": "python",
   "pygments_lexer": "ipython3",
   "version": "3.9.7"
  }
 },
 "nbformat": 4,
 "nbformat_minor": 5
}
